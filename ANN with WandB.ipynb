{
 "cells": [
  {
   "cell_type": "code",
   "execution_count": 1,
   "metadata": {},
   "outputs": [],
   "source": [
    "import wandb\n",
    "import numpy as np\n",
    "import pandas as pd\n",
    "import seaborn as sns\n",
    "from tensorflow.keras.models import Sequential\n",
    "from tensorflow.keras.layers import Dense, Dropout\n",
    "import matplotlib.pyplot as plt\n",
    "from wandb.keras import WandbCallback\n",
    "\n",
    "\n",
    "sns.set(context='notebook', style='darkgrid', palette='muted', color_codes=True)"
   ]
  },
  {
   "cell_type": "code",
   "execution_count": 23,
   "metadata": {},
   "outputs": [
    {
     "data": {
      "text/html": [
       "\n",
       "                Logging results to <a href=\"https://wandb.com\" target=\"_blank\">Weights & Biases</a> <a href=\"https://docs.wandb.com/integrations/jupyter.html\" target=\"_blank\">(Documentation)</a>.<br/>\n",
       "                Project page: <a href=\"https://app.wandb.ai/kevinpulido89/Iris_with_ANN\" target=\"_blank\">https://app.wandb.ai/kevinpulido89/Iris_with_ANN</a><br/>\n",
       "                Run page: <a href=\"https://app.wandb.ai/kevinpulido89/Iris_with_ANN/runs/16abuf9i\" target=\"_blank\">https://app.wandb.ai/kevinpulido89/Iris_with_ANN/runs/16abuf9i</a><br/>\n",
       "            "
      ],
      "text/plain": [
       "<IPython.core.display.HTML object>"
      ]
     },
     "metadata": {},
     "output_type": "display_data"
    },
    {
     "data": {
      "text/plain": [
       "W&B Run: https://app.wandb.ai/kevinpulido89/Iris_with_ANN/runs/16abuf9i"
      ]
     },
     "execution_count": 23,
     "metadata": {},
     "output_type": "execute_result"
    }
   ],
   "source": [
    "wandb.init(project='Iris_with_ANN',\n",
    "           tags=['Iris','Learning','ANN'],\n",
    "           config={\"epochs\":     250,\n",
    "                   \"batch_size\": 12,\n",
    "                   \"Dropout\":0.2,\n",
    "                   \"optimizer\":  'Adam'\n",
    "                  }\n",
    "          )\n",
    "# wandb agent kevinpulido89/Iris_with_ANN/o1i31srs"
   ]
  },
  {
   "cell_type": "markdown",
   "metadata": {},
   "source": [
    "# Clasificación de Iris con tf.keras y WandB"
   ]
  },
  {
   "cell_type": "code",
   "execution_count": 3,
   "metadata": {},
   "outputs": [
    {
     "data": {
      "text/html": [
       "<div>\n",
       "<style scoped>\n",
       "    .dataframe tbody tr th:only-of-type {\n",
       "        vertical-align: middle;\n",
       "    }\n",
       "\n",
       "    .dataframe tbody tr th {\n",
       "        vertical-align: top;\n",
       "    }\n",
       "\n",
       "    .dataframe thead th {\n",
       "        text-align: right;\n",
       "    }\n",
       "</style>\n",
       "<table border=\"1\" class=\"dataframe\">\n",
       "  <thead>\n",
       "    <tr style=\"text-align: right;\">\n",
       "      <th></th>\n",
       "      <th>Id</th>\n",
       "      <th>SepalLengthCm</th>\n",
       "      <th>SepalWidthCm</th>\n",
       "      <th>PetalLengthCm</th>\n",
       "      <th>PetalWidthCm</th>\n",
       "      <th>Species</th>\n",
       "    </tr>\n",
       "  </thead>\n",
       "  <tbody>\n",
       "    <tr>\n",
       "      <th>70</th>\n",
       "      <td>71</td>\n",
       "      <td>5.9</td>\n",
       "      <td>3.2</td>\n",
       "      <td>4.8</td>\n",
       "      <td>1.8</td>\n",
       "      <td>Iris-versicolor</td>\n",
       "    </tr>\n",
       "    <tr>\n",
       "      <th>24</th>\n",
       "      <td>25</td>\n",
       "      <td>4.8</td>\n",
       "      <td>3.4</td>\n",
       "      <td>1.9</td>\n",
       "      <td>0.2</td>\n",
       "      <td>Iris-setosa</td>\n",
       "    </tr>\n",
       "    <tr>\n",
       "      <th>60</th>\n",
       "      <td>61</td>\n",
       "      <td>5.0</td>\n",
       "      <td>2.0</td>\n",
       "      <td>3.5</td>\n",
       "      <td>1.0</td>\n",
       "      <td>Iris-versicolor</td>\n",
       "    </tr>\n",
       "    <tr>\n",
       "      <th>51</th>\n",
       "      <td>52</td>\n",
       "      <td>6.4</td>\n",
       "      <td>3.2</td>\n",
       "      <td>4.5</td>\n",
       "      <td>1.5</td>\n",
       "      <td>Iris-versicolor</td>\n",
       "    </tr>\n",
       "    <tr>\n",
       "      <th>0</th>\n",
       "      <td>1</td>\n",
       "      <td>5.1</td>\n",
       "      <td>3.5</td>\n",
       "      <td>1.4</td>\n",
       "      <td>0.2</td>\n",
       "      <td>Iris-setosa</td>\n",
       "    </tr>\n",
       "  </tbody>\n",
       "</table>\n",
       "</div>"
      ],
      "text/plain": [
       "    Id  SepalLengthCm  SepalWidthCm  PetalLengthCm  PetalWidthCm  \\\n",
       "70  71            5.9           3.2            4.8           1.8   \n",
       "24  25            4.8           3.4            1.9           0.2   \n",
       "60  61            5.0           2.0            3.5           1.0   \n",
       "51  52            6.4           3.2            4.5           1.5   \n",
       "0    1            5.1           3.5            1.4           0.2   \n",
       "\n",
       "            Species  \n",
       "70  Iris-versicolor  \n",
       "24      Iris-setosa  \n",
       "60  Iris-versicolor  \n",
       "51  Iris-versicolor  \n",
       "0       Iris-setosa  "
      ]
     },
     "execution_count": 3,
     "metadata": {},
     "output_type": "execute_result"
    }
   ],
   "source": [
    "data = pd.read_csv(\"datasets/Iris.csv\")\n",
    "data.sample(5)"
   ]
  },
  {
   "cell_type": "markdown",
   "metadata": {},
   "source": [
    "## EDA"
   ]
  },
  {
   "cell_type": "code",
   "execution_count": null,
   "metadata": {},
   "outputs": [],
   "source": []
  },
  {
   "cell_type": "code",
   "execution_count": null,
   "metadata": {},
   "outputs": [],
   "source": []
  },
  {
   "cell_type": "code",
   "execution_count": null,
   "metadata": {},
   "outputs": [],
   "source": []
  },
  {
   "cell_type": "markdown",
   "metadata": {},
   "source": [
    "## Wrangling\n"
   ]
  },
  {
   "cell_type": "code",
   "execution_count": 4,
   "metadata": {},
   "outputs": [],
   "source": [
    "from sklearn.preprocessing import LabelEncoder\n",
    "\n",
    "LabelChanger = LabelEncoder()"
   ]
  },
  {
   "cell_type": "code",
   "execution_count": 5,
   "metadata": {},
   "outputs": [
    {
     "data": {
      "text/html": [
       "<div>\n",
       "<style scoped>\n",
       "    .dataframe tbody tr th:only-of-type {\n",
       "        vertical-align: middle;\n",
       "    }\n",
       "\n",
       "    .dataframe tbody tr th {\n",
       "        vertical-align: top;\n",
       "    }\n",
       "\n",
       "    .dataframe thead th {\n",
       "        text-align: right;\n",
       "    }\n",
       "</style>\n",
       "<table border=\"1\" class=\"dataframe\">\n",
       "  <thead>\n",
       "    <tr style=\"text-align: right;\">\n",
       "      <th></th>\n",
       "      <th>Id</th>\n",
       "      <th>SepalLengthCm</th>\n",
       "      <th>SepalWidthCm</th>\n",
       "      <th>PetalLengthCm</th>\n",
       "      <th>PetalWidthCm</th>\n",
       "      <th>Species</th>\n",
       "      <th>Clases</th>\n",
       "    </tr>\n",
       "  </thead>\n",
       "  <tbody>\n",
       "    <tr>\n",
       "      <th>123</th>\n",
       "      <td>124</td>\n",
       "      <td>6.3</td>\n",
       "      <td>2.7</td>\n",
       "      <td>4.9</td>\n",
       "      <td>1.8</td>\n",
       "      <td>Iris-virginica</td>\n",
       "      <td>2</td>\n",
       "    </tr>\n",
       "    <tr>\n",
       "      <th>133</th>\n",
       "      <td>134</td>\n",
       "      <td>6.3</td>\n",
       "      <td>2.8</td>\n",
       "      <td>5.1</td>\n",
       "      <td>1.5</td>\n",
       "      <td>Iris-virginica</td>\n",
       "      <td>2</td>\n",
       "    </tr>\n",
       "    <tr>\n",
       "      <th>35</th>\n",
       "      <td>36</td>\n",
       "      <td>5.0</td>\n",
       "      <td>3.2</td>\n",
       "      <td>1.2</td>\n",
       "      <td>0.2</td>\n",
       "      <td>Iris-setosa</td>\n",
       "      <td>0</td>\n",
       "    </tr>\n",
       "    <tr>\n",
       "      <th>15</th>\n",
       "      <td>16</td>\n",
       "      <td>5.7</td>\n",
       "      <td>4.4</td>\n",
       "      <td>1.5</td>\n",
       "      <td>0.4</td>\n",
       "      <td>Iris-setosa</td>\n",
       "      <td>0</td>\n",
       "    </tr>\n",
       "    <tr>\n",
       "      <th>118</th>\n",
       "      <td>119</td>\n",
       "      <td>7.7</td>\n",
       "      <td>2.6</td>\n",
       "      <td>6.9</td>\n",
       "      <td>2.3</td>\n",
       "      <td>Iris-virginica</td>\n",
       "      <td>2</td>\n",
       "    </tr>\n",
       "  </tbody>\n",
       "</table>\n",
       "</div>"
      ],
      "text/plain": [
       "      Id  SepalLengthCm  SepalWidthCm  PetalLengthCm  PetalWidthCm  \\\n",
       "123  124            6.3           2.7            4.9           1.8   \n",
       "133  134            6.3           2.8            5.1           1.5   \n",
       "35    36            5.0           3.2            1.2           0.2   \n",
       "15    16            5.7           4.4            1.5           0.4   \n",
       "118  119            7.7           2.6            6.9           2.3   \n",
       "\n",
       "            Species  Clases  \n",
       "123  Iris-virginica       2  \n",
       "133  Iris-virginica       2  \n",
       "35      Iris-setosa       0  \n",
       "15      Iris-setosa       0  \n",
       "118  Iris-virginica       2  "
      ]
     },
     "execution_count": 5,
     "metadata": {},
     "output_type": "execute_result"
    }
   ],
   "source": [
    "# Encoding categorical values with LabelEncoder: replaced Iris-setosa with 0, Iris-versicolor 1 and Iris-virginica 2 data.set_value(data['Species']=='Iris-setosa',['Species'],0)\n",
    "LabelChanger.fit(data['Species'])\n",
    "data['Clases'] = LabelChanger.transform(data['Species'])\n",
    "# display(data.info())\n",
    "data.sample(5)"
   ]
  },
  {
   "cell_type": "code",
   "execution_count": 6,
   "metadata": {},
   "outputs": [],
   "source": [
    "X = data[['SepalLengthCm', 'SepalWidthCm', 'PetalLengthCm', 'PetalWidthCm']]\n",
    "Y = data['Clases']"
   ]
  },
  {
   "cell_type": "code",
   "execution_count": 7,
   "metadata": {},
   "outputs": [],
   "source": [
    "from sklearn.model_selection import train_test_split"
   ]
  },
  {
   "cell_type": "code",
   "execution_count": 8,
   "metadata": {},
   "outputs": [],
   "source": [
    "X_train, X_test, Y_train, Y_test = train_test_split(X,\n",
    "                                                    Y,\n",
    "                                                    test_size = 0.15,\n",
    "                                                    random_state = 17,\n",
    "                                                    stratify = Y)"
   ]
  },
  {
   "cell_type": "code",
   "execution_count": 11,
   "metadata": {},
   "outputs": [],
   "source": [
    "Original_X_Train = X_train.copy()"
   ]
  },
  {
   "cell_type": "code",
   "execution_count": 12,
   "metadata": {},
   "outputs": [],
   "source": [
    "from sklearn.preprocessing import StandardScaler"
   ]
  },
  {
   "cell_type": "code",
   "execution_count": 13,
   "metadata": {},
   "outputs": [],
   "source": [
    "# Mean Normalization (Standarize the features to follow the normal distribution, to obtain a faster & better classifier)\n",
    "sc = StandardScaler()\n",
    "\n",
    "X_train_array = sc.fit_transform(X_train.values) #calculate μ & σ(fit) and apply the transformation(transform)\n",
    "\n",
    "# Assign the scaled data to a DataFrame & use the index and columns arguments to keep your original indices and column names:\n",
    "X_train = pd.DataFrame(X_train_array, index=X_train.index, columns=X_train.columns)"
   ]
  },
  {
   "cell_type": "code",
   "execution_count": 14,
   "metadata": {},
   "outputs": [],
   "source": [
    "# Center test data. Use the μ & σ computed (fitted) on training data\n",
    "X_test_array = sc.transform(X_test.values)\n",
    "X_test = pd.DataFrame(X_test_array, index=X_test.index, columns=X_test.columns)"
   ]
  },
  {
   "cell_type": "markdown",
   "metadata": {},
   "source": [
    "## Red Neuronal"
   ]
  },
  {
   "cell_type": "code",
   "execution_count": 24,
   "metadata": {},
   "outputs": [
    {
     "name": "stdout",
     "output_type": "stream",
     "text": [
      "Model: \"ANN\"\n",
      "_________________________________________________________________\n",
      "Layer (type)                 Output Shape              Param #   \n",
      "=================================================================\n",
      "dense_3 (Dense)              (None, 12)                60        \n",
      "_________________________________________________________________\n",
      "dropout_1 (Dropout)          (None, 12)                0         \n",
      "_________________________________________________________________\n",
      "dense_4 (Dense)              (None, 12)                156       \n",
      "_________________________________________________________________\n",
      "dense_5 (Dense)              (None, 3)                 39        \n",
      "=================================================================\n",
      "Total params: 255\n",
      "Trainable params: 255\n",
      "Non-trainable params: 0\n",
      "_________________________________________________________________\n"
     ]
    }
   ],
   "source": [
    "# Initializing Neural Network\n",
    "model = Sequential(name='ANN')\n",
    "\n",
    "model.add(Dense(units=12, activation='selu', kernel_initializer = 'lecun_normal', input_dim=4,))\n",
    "model.add(Dropout(wandb.config.Dropout))\n",
    "model.add(Dense(units=12, activation='selu', kernel_initializer = 'lecun_normal'))\n",
    "\n",
    "model.add(Dense(units=3, activation='softmax', kernel_initializer = 'GlorotNormal'))\n",
    "model.summary()"
   ]
  },
  {
   "cell_type": "code",
   "execution_count": 25,
   "metadata": {},
   "outputs": [],
   "source": [
    "model.compile(loss='sparse_categorical_crossentropy',\n",
    "              optimizer=wandb.config.optimizer,\n",
    "              metrics=['accuracy']\n",
    "             )"
   ]
  },
  {
   "cell_type": "code",
   "execution_count": 26,
   "metadata": {},
   "outputs": [
    {
     "name": "stdout",
     "output_type": "stream",
     "text": [
      "Train on 127 samples, validate on 23 samples\n",
      "Epoch 1/250\n",
      "WARNING:tensorflow:Method (on_train_batch_end) is slow compared to the batch update (0.648225). Check your callbacks.\n",
      " 12/127 [=>............................] - ETA: 11s - loss: 2.2297 - accuracy: 0.1667WARNING:tensorflow:Method (on_train_batch_end) is slow compared to the batch update (0.324112). Check your callbacks.\n",
      "127/127 [==============================] - 1s 10ms/sample - loss: 1.9916 - accuracy: 0.1811 - val_loss: 1.5075 - val_accuracy: 0.3043\n",
      "Epoch 2/250\n",
      "127/127 [==============================] - 0s 549us/sample - loss: 1.6063 - accuracy: 0.2756 - val_loss: 1.2089 - val_accuracy: 0.3043\n",
      "Epoch 3/250\n",
      "127/127 [==============================] - 0s 539us/sample - loss: 1.2861 - accuracy: 0.3858 - val_loss: 0.9905 - val_accuracy: 0.4348\n",
      "Epoch 4/250\n",
      "127/127 [==============================] - 0s 539us/sample - loss: 1.0224 - accuracy: 0.4646 - val_loss: 0.8437 - val_accuracy: 0.6957\n",
      "Epoch 5/250\n",
      "127/127 [==============================] - 0s 589us/sample - loss: 0.9039 - accuracy: 0.6220 - val_loss: 0.7525 - val_accuracy: 0.6522\n",
      "Epoch 6/250\n",
      "127/127 [==============================] - 0s 531us/sample - loss: 0.8242 - accuracy: 0.6850 - val_loss: 0.6868 - val_accuracy: 0.6087\n",
      "Epoch 7/250\n",
      "127/127 [==============================] - 0s 550us/sample - loss: 0.7445 - accuracy: 0.7244 - val_loss: 0.6450 - val_accuracy: 0.6957\n",
      "Epoch 8/250\n",
      "127/127 [==============================] - 0s 553us/sample - loss: 0.5908 - accuracy: 0.7874 - val_loss: 0.6166 - val_accuracy: 0.6957\n",
      "Epoch 9/250\n",
      "127/127 [==============================] - 0s 534us/sample - loss: 0.5955 - accuracy: 0.7953 - val_loss: 0.5888 - val_accuracy: 0.6957\n",
      "Epoch 10/250\n",
      "127/127 [==============================] - 0s 535us/sample - loss: 0.6043 - accuracy: 0.7874 - val_loss: 0.5646 - val_accuracy: 0.6957\n",
      "Epoch 11/250\n",
      "127/127 [==============================] - 0s 552us/sample - loss: 0.5255 - accuracy: 0.7559 - val_loss: 0.5495 - val_accuracy: 0.6957\n",
      "Epoch 12/250\n",
      "127/127 [==============================] - 0s 535us/sample - loss: 0.4871 - accuracy: 0.7874 - val_loss: 0.5360 - val_accuracy: 0.6957\n",
      "Epoch 13/250\n",
      "127/127 [==============================] - 0s 526us/sample - loss: 0.4845 - accuracy: 0.8189 - val_loss: 0.5186 - val_accuracy: 0.6957\n",
      "Epoch 14/250\n",
      "127/127 [==============================] - 0s 533us/sample - loss: 0.4004 - accuracy: 0.8661 - val_loss: 0.5091 - val_accuracy: 0.6957\n",
      "Epoch 15/250\n",
      "127/127 [==============================] - 0s 534us/sample - loss: 0.4251 - accuracy: 0.8110 - val_loss: 0.5083 - val_accuracy: 0.6957\n",
      "Epoch 16/250\n",
      "127/127 [==============================] - 0s 544us/sample - loss: 0.4332 - accuracy: 0.8031 - val_loss: 0.5068 - val_accuracy: 0.6957\n",
      "Epoch 17/250\n",
      "127/127 [==============================] - 0s 560us/sample - loss: 0.3647 - accuracy: 0.8898 - val_loss: 0.4978 - val_accuracy: 0.7391\n",
      "Epoch 18/250\n",
      "127/127 [==============================] - 0s 526us/sample - loss: 0.4200 - accuracy: 0.8268 - val_loss: 0.4829 - val_accuracy: 0.7391\n",
      "Epoch 19/250\n",
      "127/127 [==============================] - 0s 543us/sample - loss: 0.4855 - accuracy: 0.7717 - val_loss: 0.4723 - val_accuracy: 0.7826\n",
      "Epoch 20/250\n",
      "127/127 [==============================] - 0s 537us/sample - loss: 0.3881 - accuracy: 0.8425 - val_loss: 0.4603 - val_accuracy: 0.7826\n",
      "Epoch 21/250\n",
      "127/127 [==============================] - 0s 532us/sample - loss: 0.3615 - accuracy: 0.8425 - val_loss: 0.4500 - val_accuracy: 0.7826\n",
      "Epoch 22/250\n",
      "127/127 [==============================] - 0s 544us/sample - loss: 0.3595 - accuracy: 0.8661 - val_loss: 0.4429 - val_accuracy: 0.7826\n",
      "Epoch 23/250\n",
      "127/127 [==============================] - 0s 634us/sample - loss: 0.3819 - accuracy: 0.8189 - val_loss: 0.4380 - val_accuracy: 0.7826\n",
      "Epoch 24/250\n",
      "127/127 [==============================] - 0s 580us/sample - loss: 0.3638 - accuracy: 0.8740 - val_loss: 0.4251 - val_accuracy: 0.7826\n",
      "Epoch 25/250\n",
      "127/127 [==============================] - 0s 573us/sample - loss: 0.3513 - accuracy: 0.8504 - val_loss: 0.4166 - val_accuracy: 0.7826\n",
      "Epoch 26/250\n",
      "127/127 [==============================] - 0s 565us/sample - loss: 0.3285 - accuracy: 0.8740 - val_loss: 0.4122 - val_accuracy: 0.7826\n",
      "Epoch 27/250\n",
      "127/127 [==============================] - 0s 565us/sample - loss: 0.3624 - accuracy: 0.8425 - val_loss: 0.4106 - val_accuracy: 0.7826\n",
      "Epoch 28/250\n",
      "127/127 [==============================] - 0s 573us/sample - loss: 0.3909 - accuracy: 0.8346 - val_loss: 0.3951 - val_accuracy: 0.7826\n",
      "Epoch 29/250\n",
      "127/127 [==============================] - 0s 565us/sample - loss: 0.3280 - accuracy: 0.8740 - val_loss: 0.3924 - val_accuracy: 0.7826\n",
      "Epoch 30/250\n",
      "127/127 [==============================] - 0s 565us/sample - loss: 0.3479 - accuracy: 0.8504 - val_loss: 0.3863 - val_accuracy: 0.7826\n",
      "Epoch 31/250\n",
      "127/127 [==============================] - 0s 534us/sample - loss: 0.3234 - accuracy: 0.8819 - val_loss: 0.3744 - val_accuracy: 0.7826\n",
      "Epoch 32/250\n",
      "127/127 [==============================] - 0s 565us/sample - loss: 0.2857 - accuracy: 0.8819 - val_loss: 0.3709 - val_accuracy: 0.7826\n",
      "Epoch 33/250\n",
      "127/127 [==============================] - 0s 599us/sample - loss: 0.3049 - accuracy: 0.8819 - val_loss: 0.3627 - val_accuracy: 0.7826\n",
      "Epoch 34/250\n",
      "127/127 [==============================] - 0s 538us/sample - loss: 0.3344 - accuracy: 0.8504 - val_loss: 0.3563 - val_accuracy: 0.7826\n",
      "Epoch 35/250\n",
      "127/127 [==============================] - 0s 591us/sample - loss: 0.2924 - accuracy: 0.9134 - val_loss: 0.3526 - val_accuracy: 0.7826\n",
      "Epoch 36/250\n",
      "127/127 [==============================] - 0s 558us/sample - loss: 0.2915 - accuracy: 0.8504 - val_loss: 0.3443 - val_accuracy: 0.7826\n",
      "Epoch 37/250\n",
      "127/127 [==============================] - 0s 546us/sample - loss: 0.3416 - accuracy: 0.8346 - val_loss: 0.3362 - val_accuracy: 0.7826\n",
      "Epoch 38/250\n",
      "127/127 [==============================] - 0s 503us/sample - loss: 0.3352 - accuracy: 0.8425 - val_loss: 0.3326 - val_accuracy: 0.7826\n",
      "Epoch 39/250\n",
      "127/127 [==============================] - 0s 503us/sample - loss: 0.2796 - accuracy: 0.8898 - val_loss: 0.3250 - val_accuracy: 0.7826\n",
      "Epoch 40/250\n",
      "127/127 [==============================] - 0s 504us/sample - loss: 0.2603 - accuracy: 0.9213 - val_loss: 0.3215 - val_accuracy: 0.7826\n",
      "Epoch 41/250\n",
      "127/127 [==============================] - 0s 487us/sample - loss: 0.2863 - accuracy: 0.8898 - val_loss: 0.3161 - val_accuracy: 0.7826\n",
      "Epoch 42/250\n",
      "127/127 [==============================] - 0s 503us/sample - loss: 0.3247 - accuracy: 0.8504 - val_loss: 0.3069 - val_accuracy: 0.8261\n",
      "Epoch 43/250\n",
      "127/127 [==============================] - 0s 503us/sample - loss: 0.2642 - accuracy: 0.8819 - val_loss: 0.2988 - val_accuracy: 0.8261\n",
      "Epoch 44/250\n",
      "127/127 [==============================] - 0s 494us/sample - loss: 0.2423 - accuracy: 0.8976 - val_loss: 0.2973 - val_accuracy: 0.8261\n",
      "Epoch 45/250\n",
      "127/127 [==============================] - 0s 503us/sample - loss: 0.2826 - accuracy: 0.8898 - val_loss: 0.2969 - val_accuracy: 0.8261\n",
      "Epoch 46/250\n",
      "127/127 [==============================] - 0s 504us/sample - loss: 0.2248 - accuracy: 0.9134 - val_loss: 0.2884 - val_accuracy: 0.8261\n",
      "Epoch 47/250\n",
      "127/127 [==============================] - 0s 490us/sample - loss: 0.2117 - accuracy: 0.9370 - val_loss: 0.2841 - val_accuracy: 0.8696\n",
      "Epoch 48/250\n",
      "127/127 [==============================] - 0s 495us/sample - loss: 0.2314 - accuracy: 0.9055 - val_loss: 0.2762 - val_accuracy: 0.8696\n",
      "Epoch 49/250\n",
      "127/127 [==============================] - 0s 487us/sample - loss: 0.2652 - accuracy: 0.8819 - val_loss: 0.2703 - val_accuracy: 0.8696\n",
      "Epoch 50/250\n",
      "127/127 [==============================] - 0s 512us/sample - loss: 0.2487 - accuracy: 0.8740 - val_loss: 0.2603 - val_accuracy: 0.8696\n",
      "Epoch 51/250\n",
      "127/127 [==============================] - 0s 503us/sample - loss: 0.2356 - accuracy: 0.9055 - val_loss: 0.2557 - val_accuracy: 0.8696\n",
      "Epoch 52/250\n",
      "127/127 [==============================] - 0s 495us/sample - loss: 0.2384 - accuracy: 0.8976 - val_loss: 0.2552 - val_accuracy: 0.8696\n",
      "Epoch 53/250\n",
      "127/127 [==============================] - 0s 495us/sample - loss: 0.2145 - accuracy: 0.8976 - val_loss: 0.2479 - val_accuracy: 0.8696\n",
      "Epoch 54/250\n",
      "127/127 [==============================] - 0s 573us/sample - loss: 0.2315 - accuracy: 0.8898 - val_loss: 0.2456 - val_accuracy: 0.8696\n",
      "Epoch 55/250\n",
      "127/127 [==============================] - 0s 341us/sample - loss: 0.2129 - accuracy: 0.9370 - val_loss: 0.2503 - val_accuracy: 0.8696\n",
      "Epoch 56/250\n",
      "127/127 [==============================] - 0s 314us/sample - loss: 0.1966 - accuracy: 0.9213 - val_loss: 0.2560 - val_accuracy: 0.8696\n",
      "Epoch 57/250\n",
      "127/127 [==============================] - 0s 322us/sample - loss: 0.2561 - accuracy: 0.9134 - val_loss: 0.2530 - val_accuracy: 0.8696\n",
      "Epoch 58/250\n",
      "127/127 [==============================] - 0s 314us/sample - loss: 0.1752 - accuracy: 0.9449 - val_loss: 0.2466 - val_accuracy: 0.8696\n",
      "Epoch 59/250\n",
      "127/127 [==============================] - 0s 338us/sample - loss: 0.1915 - accuracy: 0.9291 - val_loss: 0.2466 - val_accuracy: 0.8696\n",
      "Epoch 60/250\n",
      "127/127 [==============================] - 0s 510us/sample - loss: 0.2445 - accuracy: 0.8819 - val_loss: 0.2433 - val_accuracy: 0.8696\n",
      "Epoch 61/250\n",
      "127/127 [==============================] - 0s 332us/sample - loss: 0.2213 - accuracy: 0.8898 - val_loss: 0.2473 - val_accuracy: 0.8696\n",
      "Epoch 62/250\n",
      "127/127 [==============================] - 0s 520us/sample - loss: 0.2098 - accuracy: 0.8819 - val_loss: 0.2414 - val_accuracy: 0.8696\n",
      "Epoch 63/250\n",
      "127/127 [==============================] - 0s 530us/sample - loss: 0.2070 - accuracy: 0.9213 - val_loss: 0.2298 - val_accuracy: 0.9130\n",
      "Epoch 64/250\n",
      "127/127 [==============================] - 0s 532us/sample - loss: 0.1964 - accuracy: 0.9134 - val_loss: 0.2247 - val_accuracy: 0.9130\n",
      "Epoch 65/250\n",
      "127/127 [==============================] - 0s 525us/sample - loss: 0.1647 - accuracy: 0.9606 - val_loss: 0.2209 - val_accuracy: 0.9130\n",
      "Epoch 66/250\n",
      "127/127 [==============================] - 0s 534us/sample - loss: 0.2372 - accuracy: 0.8898 - val_loss: 0.2095 - val_accuracy: 0.9565\n",
      "Epoch 67/250\n",
      "127/127 [==============================] - 0s 517us/sample - loss: 0.1798 - accuracy: 0.9055 - val_loss: 0.2084 - val_accuracy: 0.9565\n",
      "Epoch 68/250\n",
      "127/127 [==============================] - 0s 526us/sample - loss: 0.1917 - accuracy: 0.9134 - val_loss: 0.1998 - val_accuracy: 0.9565\n",
      "Epoch 69/250\n",
      "127/127 [==============================] - 0s 521us/sample - loss: 0.1976 - accuracy: 0.9291 - val_loss: 0.1948 - val_accuracy: 0.9565\n",
      "Epoch 70/250\n",
      "127/127 [==============================] - 0s 522us/sample - loss: 0.1911 - accuracy: 0.8976 - val_loss: 0.1895 - val_accuracy: 0.9565\n",
      "Epoch 71/250\n",
      "127/127 [==============================] - 0s 519us/sample - loss: 0.1913 - accuracy: 0.9213 - val_loss: 0.1848 - val_accuracy: 0.9565\n",
      "Epoch 72/250\n",
      "127/127 [==============================] - 0s 503us/sample - loss: 0.2085 - accuracy: 0.9055 - val_loss: 0.1810 - val_accuracy: 0.9565\n",
      "Epoch 73/250\n",
      "127/127 [==============================] - 0s 523us/sample - loss: 0.1892 - accuracy: 0.9055 - val_loss: 0.1794 - val_accuracy: 0.9565\n",
      "Epoch 74/250\n",
      "127/127 [==============================] - 0s 526us/sample - loss: 0.1859 - accuracy: 0.9291 - val_loss: 0.1774 - val_accuracy: 0.9565\n",
      "Epoch 75/250\n",
      "127/127 [==============================] - 0s 525us/sample - loss: 0.1664 - accuracy: 0.9291 - val_loss: 0.1772 - val_accuracy: 0.9565\n",
      "Epoch 76/250\n",
      "127/127 [==============================] - 0s 329us/sample - loss: 0.1539 - accuracy: 0.9685 - val_loss: 0.1774 - val_accuracy: 0.9565\n",
      "Epoch 77/250\n",
      "127/127 [==============================] - 0s 510us/sample - loss: 0.1511 - accuracy: 0.9606 - val_loss: 0.1761 - val_accuracy: 0.9565\n",
      "Epoch 78/250\n",
      "127/127 [==============================] - 0s 539us/sample - loss: 0.1960 - accuracy: 0.9291 - val_loss: 0.1732 - val_accuracy: 0.9565\n",
      "Epoch 79/250\n",
      "127/127 [==============================] - 0s 523us/sample - loss: 0.1556 - accuracy: 0.9606 - val_loss: 0.1672 - val_accuracy: 0.9565\n",
      "Epoch 80/250\n",
      "127/127 [==============================] - 0s 518us/sample - loss: 0.1260 - accuracy: 0.9606 - val_loss: 0.1635 - val_accuracy: 0.9565\n",
      "Epoch 81/250\n",
      "127/127 [==============================] - 0s 330us/sample - loss: 0.1789 - accuracy: 0.9528 - val_loss: 0.1662 - val_accuracy: 0.9565\n",
      "Epoch 82/250\n",
      "127/127 [==============================] - 0s 330us/sample - loss: 0.1603 - accuracy: 0.9370 - val_loss: 0.1646 - val_accuracy: 0.9565\n",
      "Epoch 83/250\n",
      "127/127 [==============================] - 0s 325us/sample - loss: 0.1951 - accuracy: 0.9134 - val_loss: 0.1681 - val_accuracy: 0.9565\n",
      "Epoch 84/250\n",
      "127/127 [==============================] - 0s 332us/sample - loss: 0.1533 - accuracy: 0.9370 - val_loss: 0.1679 - val_accuracy: 0.9565\n",
      "Epoch 85/250\n",
      "127/127 [==============================] - 0s 517us/sample - loss: 0.1378 - accuracy: 0.9449 - val_loss: 0.1616 - val_accuracy: 0.9565\n",
      "Epoch 86/250\n",
      "127/127 [==============================] - 0s 518us/sample - loss: 0.1448 - accuracy: 0.9606 - val_loss: 0.1582 - val_accuracy: 0.9565\n",
      "Epoch 87/250\n",
      "127/127 [==============================] - 0s 507us/sample - loss: 0.1883 - accuracy: 0.9370 - val_loss: 0.1529 - val_accuracy: 0.9565\n",
      "Epoch 88/250\n",
      "127/127 [==============================] - 0s 481us/sample - loss: 0.1218 - accuracy: 0.9370 - val_loss: 0.1539 - val_accuracy: 0.9565\n",
      "Epoch 89/250\n",
      "127/127 [==============================] - 0s 332us/sample - loss: 0.1517 - accuracy: 0.9291 - val_loss: 0.1536 - val_accuracy: 0.9565\n",
      "Epoch 90/250\n",
      "127/127 [==============================] - 0s 533us/sample - loss: 0.1434 - accuracy: 0.9528 - val_loss: 0.1505 - val_accuracy: 0.9565\n",
      "Epoch 91/250\n",
      "127/127 [==============================] - 0s 523us/sample - loss: 0.1153 - accuracy: 0.9606 - val_loss: 0.1476 - val_accuracy: 0.9565\n",
      "Epoch 92/250\n",
      "127/127 [==============================] - 0s 525us/sample - loss: 0.1483 - accuracy: 0.9291 - val_loss: 0.1439 - val_accuracy: 0.9565\n",
      "Epoch 93/250\n",
      "127/127 [==============================] - 0s 509us/sample - loss: 0.1342 - accuracy: 0.9370 - val_loss: 0.1410 - val_accuracy: 0.9565\n",
      "Epoch 94/250\n",
      "127/127 [==============================] - 0s 533us/sample - loss: 0.1469 - accuracy: 0.9449 - val_loss: 0.1383 - val_accuracy: 0.9565\n",
      "Epoch 95/250\n",
      "127/127 [==============================] - 0s 502us/sample - loss: 0.1290 - accuracy: 0.9606 - val_loss: 0.1369 - val_accuracy: 0.9565\n",
      "Epoch 96/250\n",
      "127/127 [==============================] - 0s 339us/sample - loss: 0.1581 - accuracy: 0.9213 - val_loss: 0.1380 - val_accuracy: 0.9565\n",
      "Epoch 97/250\n",
      "127/127 [==============================] - 0s 330us/sample - loss: 0.1537 - accuracy: 0.9291 - val_loss: 0.1386 - val_accuracy: 0.9565\n",
      "Epoch 98/250\n",
      "127/127 [==============================] - 0s 522us/sample - loss: 0.1516 - accuracy: 0.9449 - val_loss: 0.1317 - val_accuracy: 0.9565\n",
      "Epoch 99/250\n",
      "127/127 [==============================] - 0s 511us/sample - loss: 0.1221 - accuracy: 0.9685 - val_loss: 0.1250 - val_accuracy: 0.9565\n",
      "Epoch 100/250\n",
      "127/127 [==============================] - 0s 345us/sample - loss: 0.1185 - accuracy: 0.9528 - val_loss: 0.1269 - val_accuracy: 0.9565\n",
      "Epoch 101/250\n",
      "127/127 [==============================] - 0s 558us/sample - loss: 0.1400 - accuracy: 0.9291 - val_loss: 0.1223 - val_accuracy: 0.9565\n",
      "Epoch 102/250\n",
      "127/127 [==============================] - 0s 534us/sample - loss: 0.1234 - accuracy: 0.9606 - val_loss: 0.1187 - val_accuracy: 0.9565\n",
      "Epoch 103/250\n",
      "127/127 [==============================] - 0s 519us/sample - loss: 0.0998 - accuracy: 0.9685 - val_loss: 0.1178 - val_accuracy: 0.9565\n",
      "Epoch 104/250\n",
      "127/127 [==============================] - 0s 330us/sample - loss: 0.1192 - accuracy: 0.9685 - val_loss: 0.1204 - val_accuracy: 0.9565\n",
      "Epoch 105/250\n",
      "127/127 [==============================] - 0s 322us/sample - loss: 0.1295 - accuracy: 0.9449 - val_loss: 0.1202 - val_accuracy: 0.9565\n",
      "Epoch 106/250\n",
      "127/127 [==============================] - 0s 323us/sample - loss: 0.1520 - accuracy: 0.9291 - val_loss: 0.1240 - val_accuracy: 0.9565\n",
      "Epoch 107/250\n",
      "127/127 [==============================] - 0s 330us/sample - loss: 0.1118 - accuracy: 0.9528 - val_loss: 0.1269 - val_accuracy: 0.9565\n",
      "Epoch 108/250\n",
      "127/127 [==============================] - 0s 317us/sample - loss: 0.1211 - accuracy: 0.9449 - val_loss: 0.1265 - val_accuracy: 0.9565\n",
      "Epoch 109/250\n",
      "127/127 [==============================] - 0s 338us/sample - loss: 0.1060 - accuracy: 0.9606 - val_loss: 0.1269 - val_accuracy: 0.9565\n",
      "Epoch 110/250\n",
      "127/127 [==============================] - 0s 322us/sample - loss: 0.1202 - accuracy: 0.9449 - val_loss: 0.1221 - val_accuracy: 0.9565\n",
      "Epoch 111/250\n",
      "127/127 [==============================] - 0s 503us/sample - loss: 0.1153 - accuracy: 0.9606 - val_loss: 0.1175 - val_accuracy: 0.9565\n",
      "Epoch 112/250\n",
      "127/127 [==============================] - 0s 536us/sample - loss: 0.1230 - accuracy: 0.9370 - val_loss: 0.1160 - val_accuracy: 0.9565\n",
      "Epoch 113/250\n",
      "127/127 [==============================] - 0s 538us/sample - loss: 0.1417 - accuracy: 0.9291 - val_loss: 0.1129 - val_accuracy: 0.9565\n",
      "Epoch 114/250\n",
      "127/127 [==============================] - 0s 500us/sample - loss: 0.0842 - accuracy: 0.9685 - val_loss: 0.1106 - val_accuracy: 0.9565\n",
      "Epoch 115/250\n",
      "127/127 [==============================] - 0s 337us/sample - loss: 0.1301 - accuracy: 0.9291 - val_loss: 0.1112 - val_accuracy: 0.9565\n",
      "Epoch 116/250\n",
      "127/127 [==============================] - 0s 506us/sample - loss: 0.1271 - accuracy: 0.9606 - val_loss: 0.1079 - val_accuracy: 0.9565\n",
      "Epoch 117/250\n",
      "127/127 [==============================] - 0s 522us/sample - loss: 0.1150 - accuracy: 0.9449 - val_loss: 0.1024 - val_accuracy: 0.9565\n",
      "Epoch 118/250\n",
      "127/127 [==============================] - 0s 530us/sample - loss: 0.1552 - accuracy: 0.9213 - val_loss: 0.0996 - val_accuracy: 0.9565\n",
      "Epoch 119/250\n",
      "127/127 [==============================] - 0s 528us/sample - loss: 0.1088 - accuracy: 0.9370 - val_loss: 0.0980 - val_accuracy: 0.9565\n",
      "Epoch 120/250\n",
      "127/127 [==============================] - 0s 353us/sample - loss: 0.1498 - accuracy: 0.9370 - val_loss: 0.1016 - val_accuracy: 0.9565\n",
      "Epoch 121/250\n",
      "127/127 [==============================] - 0s 360us/sample - loss: 0.1246 - accuracy: 0.9528 - val_loss: 0.1013 - val_accuracy: 0.9565\n",
      "Epoch 122/250\n",
      "127/127 [==============================] - 0s 330us/sample - loss: 0.0878 - accuracy: 0.9764 - val_loss: 0.1060 - val_accuracy: 0.9565\n",
      "Epoch 123/250\n",
      "127/127 [==============================] - 0s 314us/sample - loss: 0.1168 - accuracy: 0.9528 - val_loss: 0.1023 - val_accuracy: 0.9565\n",
      "Epoch 124/250\n",
      "127/127 [==============================] - 0s 605us/sample - loss: 0.1102 - accuracy: 0.9528 - val_loss: 0.0975 - val_accuracy: 0.9565\n",
      "Epoch 125/250\n",
      "127/127 [==============================] - 0s 522us/sample - loss: 0.1016 - accuracy: 0.9449 - val_loss: 0.0968 - val_accuracy: 0.9565\n",
      "Epoch 126/250\n",
      "127/127 [==============================] - 0s 519us/sample - loss: 0.0956 - accuracy: 0.9685 - val_loss: 0.0966 - val_accuracy: 0.9565\n",
      "Epoch 127/250\n",
      "127/127 [==============================] - 0s 512us/sample - loss: 0.1045 - accuracy: 0.9606 - val_loss: 0.0955 - val_accuracy: 0.9565\n",
      "Epoch 128/250\n",
      "127/127 [==============================] - 0s 338us/sample - loss: 0.1208 - accuracy: 0.9449 - val_loss: 0.0962 - val_accuracy: 0.9565\n",
      "Epoch 129/250\n",
      "127/127 [==============================] - 0s 340us/sample - loss: 0.1444 - accuracy: 0.9370 - val_loss: 0.1002 - val_accuracy: 0.9565\n",
      "Epoch 130/250\n",
      "127/127 [==============================] - 0s 330us/sample - loss: 0.1135 - accuracy: 0.9528 - val_loss: 0.1011 - val_accuracy: 0.9565\n",
      "Epoch 131/250\n",
      "127/127 [==============================] - 0s 320us/sample - loss: 0.0902 - accuracy: 0.9764 - val_loss: 0.0981 - val_accuracy: 0.9565\n",
      "Epoch 132/250\n",
      "127/127 [==============================] - 0s 329us/sample - loss: 0.1124 - accuracy: 0.9606 - val_loss: 0.0958 - val_accuracy: 0.9565\n",
      "Epoch 133/250\n",
      "127/127 [==============================] - 0s 510us/sample - loss: 0.0627 - accuracy: 0.9921 - val_loss: 0.0944 - val_accuracy: 0.9565\n",
      "Epoch 134/250\n",
      "127/127 [==============================] - 0s 544us/sample - loss: 0.1282 - accuracy: 0.9528 - val_loss: 0.0927 - val_accuracy: 0.9565\n",
      "Epoch 135/250\n",
      "127/127 [==============================] - 0s 331us/sample - loss: 0.0984 - accuracy: 0.9528 - val_loss: 0.0938 - val_accuracy: 0.9565\n",
      "Epoch 136/250\n",
      "127/127 [==============================] - 0s 518us/sample - loss: 0.1218 - accuracy: 0.9528 - val_loss: 0.0917 - val_accuracy: 0.9565\n",
      "Epoch 137/250\n",
      "127/127 [==============================] - 0s 329us/sample - loss: 0.1205 - accuracy: 0.9606 - val_loss: 0.0947 - val_accuracy: 0.9565\n",
      "Epoch 138/250\n",
      "127/127 [==============================] - 0s 329us/sample - loss: 0.0692 - accuracy: 0.9921 - val_loss: 0.0920 - val_accuracy: 0.9565\n",
      "Epoch 139/250\n",
      "127/127 [==============================] - 0s 348us/sample - loss: 0.1055 - accuracy: 0.9528 - val_loss: 0.0934 - val_accuracy: 0.9565\n",
      "Epoch 140/250\n",
      "127/127 [==============================] - 0s 330us/sample - loss: 0.1464 - accuracy: 0.9528 - val_loss: 0.1006 - val_accuracy: 0.9565\n",
      "Epoch 141/250\n",
      "127/127 [==============================] - 0s 322us/sample - loss: 0.1054 - accuracy: 0.9606 - val_loss: 0.0959 - val_accuracy: 0.9565\n",
      "Epoch 142/250\n",
      "127/127 [==============================] - 0s 508us/sample - loss: 0.0844 - accuracy: 0.9764 - val_loss: 0.0912 - val_accuracy: 0.9565\n",
      "Epoch 143/250\n",
      "127/127 [==============================] - 0s 338us/sample - loss: 0.0939 - accuracy: 0.9606 - val_loss: 0.0923 - val_accuracy: 0.9565\n",
      "Epoch 144/250\n",
      "127/127 [==============================] - 0s 517us/sample - loss: 0.0815 - accuracy: 0.9606 - val_loss: 0.0909 - val_accuracy: 0.9565\n",
      "Epoch 145/250\n",
      "127/127 [==============================] - 0s 525us/sample - loss: 0.0948 - accuracy: 0.9685 - val_loss: 0.0881 - val_accuracy: 0.9565\n",
      "Epoch 146/250\n",
      "127/127 [==============================] - 0s 534us/sample - loss: 0.1008 - accuracy: 0.9606 - val_loss: 0.0863 - val_accuracy: 0.9565\n",
      "Epoch 147/250\n",
      "127/127 [==============================] - 0s 532us/sample - loss: 0.0695 - accuracy: 0.9685 - val_loss: 0.0856 - val_accuracy: 0.9565\n",
      "Epoch 148/250\n",
      "127/127 [==============================] - 0s 573us/sample - loss: 0.1140 - accuracy: 0.9606 - val_loss: 0.0833 - val_accuracy: 0.9565\n",
      "Epoch 149/250\n",
      "127/127 [==============================] - 0s 477us/sample - loss: 0.1134 - accuracy: 0.9528 - val_loss: 0.0842 - val_accuracy: 0.9565\n",
      "Epoch 150/250\n",
      "127/127 [==============================] - 0s 328us/sample - loss: 0.1120 - accuracy: 0.9606 - val_loss: 0.0935 - val_accuracy: 0.9565\n",
      "Epoch 151/250\n",
      "127/127 [==============================] - 0s 330us/sample - loss: 0.0959 - accuracy: 0.9685 - val_loss: 0.0875 - val_accuracy: 0.9565\n",
      "Epoch 152/250\n",
      "127/127 [==============================] - 0s 326us/sample - loss: 0.1038 - accuracy: 0.9606 - val_loss: 0.0864 - val_accuracy: 0.9565\n",
      "Epoch 153/250\n",
      "127/127 [==============================] - 0s 330us/sample - loss: 0.0870 - accuracy: 0.9685 - val_loss: 0.0878 - val_accuracy: 0.9565\n",
      "Epoch 154/250\n",
      "127/127 [==============================] - 0s 337us/sample - loss: 0.0976 - accuracy: 0.9606 - val_loss: 0.0889 - val_accuracy: 0.9565\n",
      "Epoch 155/250\n",
      "127/127 [==============================] - 0s 323us/sample - loss: 0.0885 - accuracy: 0.9528 - val_loss: 0.0877 - val_accuracy: 0.9565\n",
      "Epoch 156/250\n",
      "127/127 [==============================] - 0s 340us/sample - loss: 0.0832 - accuracy: 0.9685 - val_loss: 0.0867 - val_accuracy: 0.9565\n",
      "Epoch 157/250\n",
      "127/127 [==============================] - 0s 322us/sample - loss: 0.0929 - accuracy: 0.9528 - val_loss: 0.0836 - val_accuracy: 0.9565\n",
      "Epoch 158/250\n",
      "127/127 [==============================] - 0s 346us/sample - loss: 0.0714 - accuracy: 0.9764 - val_loss: 0.0909 - val_accuracy: 0.9565\n",
      "Epoch 159/250\n",
      "127/127 [==============================] - 0s 322us/sample - loss: 0.0882 - accuracy: 0.9606 - val_loss: 0.0924 - val_accuracy: 0.9565\n",
      "Epoch 160/250\n",
      "127/127 [==============================] - 0s 338us/sample - loss: 0.0991 - accuracy: 0.9528 - val_loss: 0.0934 - val_accuracy: 0.9565\n",
      "Epoch 161/250\n",
      "127/127 [==============================] - 0s 338us/sample - loss: 0.0617 - accuracy: 0.9843 - val_loss: 0.0905 - val_accuracy: 0.9565\n",
      "Epoch 162/250\n",
      "127/127 [==============================] - 0s 347us/sample - loss: 0.0785 - accuracy: 0.9764 - val_loss: 0.0857 - val_accuracy: 0.9565\n",
      "Epoch 163/250\n",
      "127/127 [==============================] - 0s 519us/sample - loss: 0.0928 - accuracy: 0.9764 - val_loss: 0.0823 - val_accuracy: 0.9565\n",
      "Epoch 164/250\n",
      "127/127 [==============================] - 0s 658us/sample - loss: 0.0733 - accuracy: 0.9843 - val_loss: 0.0730 - val_accuracy: 0.9565\n",
      "Epoch 165/250\n",
      "127/127 [==============================] - 0s 533us/sample - loss: 0.1028 - accuracy: 0.9528 - val_loss: 0.0701 - val_accuracy: 0.9565\n",
      "Epoch 166/250\n",
      "127/127 [==============================] - 0s 330us/sample - loss: 0.1005 - accuracy: 0.9528 - val_loss: 0.0731 - val_accuracy: 0.9565\n",
      "Epoch 167/250\n",
      "127/127 [==============================] - 0s 330us/sample - loss: 0.0756 - accuracy: 0.9685 - val_loss: 0.0786 - val_accuracy: 0.9565\n",
      "Epoch 168/250\n",
      "127/127 [==============================] - 0s 341us/sample - loss: 0.0820 - accuracy: 0.9606 - val_loss: 0.0797 - val_accuracy: 0.9565\n",
      "Epoch 169/250\n",
      "127/127 [==============================] - 0s 353us/sample - loss: 0.0728 - accuracy: 0.9764 - val_loss: 0.0812 - val_accuracy: 0.9565\n",
      "Epoch 170/250\n",
      "127/127 [==============================] - 0s 353us/sample - loss: 0.0910 - accuracy: 0.9606 - val_loss: 0.0868 - val_accuracy: 0.9565\n",
      "Epoch 171/250\n",
      "127/127 [==============================] - 0s 323us/sample - loss: 0.0695 - accuracy: 0.9685 - val_loss: 0.0870 - val_accuracy: 0.9565\n",
      "Epoch 172/250\n",
      "127/127 [==============================] - 0s 314us/sample - loss: 0.0826 - accuracy: 0.9606 - val_loss: 0.0871 - val_accuracy: 0.9565\n",
      "Epoch 173/250\n",
      "127/127 [==============================] - 0s 330us/sample - loss: 0.1177 - accuracy: 0.9528 - val_loss: 0.0871 - val_accuracy: 0.9565\n",
      "Epoch 174/250\n",
      "127/127 [==============================] - 0s 330us/sample - loss: 0.1116 - accuracy: 0.9449 - val_loss: 0.0786 - val_accuracy: 0.9565\n",
      "Epoch 175/250\n",
      "127/127 [==============================] - 0s 312us/sample - loss: 0.0905 - accuracy: 0.9528 - val_loss: 0.0744 - val_accuracy: 0.9565\n",
      "Epoch 176/250\n",
      "127/127 [==============================] - 0s 502us/sample - loss: 0.0825 - accuracy: 0.9528 - val_loss: 0.0698 - val_accuracy: 0.9565\n",
      "Epoch 177/250\n",
      "127/127 [==============================] - 0s 314us/sample - loss: 0.0777 - accuracy: 0.9685 - val_loss: 0.0734 - val_accuracy: 0.9565\n",
      "Epoch 178/250\n",
      "127/127 [==============================] - 0s 322us/sample - loss: 0.1021 - accuracy: 0.9606 - val_loss: 0.0703 - val_accuracy: 0.9565\n",
      "Epoch 179/250\n",
      "127/127 [==============================] - 0s 522us/sample - loss: 0.1086 - accuracy: 0.9606 - val_loss: 0.0689 - val_accuracy: 0.9565\n",
      "Epoch 180/250\n",
      "127/127 [==============================] - 0s 325us/sample - loss: 0.0668 - accuracy: 0.9843 - val_loss: 0.0732 - val_accuracy: 0.9565\n",
      "Epoch 181/250\n",
      "127/127 [==============================] - 0s 318us/sample - loss: 0.0786 - accuracy: 0.9606 - val_loss: 0.0759 - val_accuracy: 0.9565\n",
      "Epoch 182/250\n",
      "127/127 [==============================] - 0s 322us/sample - loss: 0.0701 - accuracy: 0.9685 - val_loss: 0.0780 - val_accuracy: 0.9565\n",
      "Epoch 183/250\n",
      "127/127 [==============================] - 0s 346us/sample - loss: 0.0961 - accuracy: 0.9606 - val_loss: 0.0786 - val_accuracy: 0.9565\n",
      "Epoch 184/250\n",
      "127/127 [==============================] - 0s 314us/sample - loss: 0.0957 - accuracy: 0.9370 - val_loss: 0.0797 - val_accuracy: 0.9565\n",
      "Epoch 185/250\n",
      "127/127 [==============================] - 0s 322us/sample - loss: 0.0810 - accuracy: 0.9685 - val_loss: 0.0806 - val_accuracy: 0.9565\n",
      "Epoch 186/250\n",
      "127/127 [==============================] - 0s 314us/sample - loss: 0.0936 - accuracy: 0.9606 - val_loss: 0.0823 - val_accuracy: 0.9565\n",
      "Epoch 187/250\n",
      "127/127 [==============================] - 0s 322us/sample - loss: 0.0930 - accuracy: 0.9528 - val_loss: 0.0827 - val_accuracy: 0.9565\n",
      "Epoch 188/250\n",
      "127/127 [==============================] - 0s 315us/sample - loss: 0.0628 - accuracy: 0.9685 - val_loss: 0.0779 - val_accuracy: 0.9565\n",
      "Epoch 189/250\n",
      "127/127 [==============================] - 0s 314us/sample - loss: 0.1263 - accuracy: 0.9528 - val_loss: 0.0778 - val_accuracy: 0.9565\n",
      "Epoch 190/250\n",
      "127/127 [==============================] - 0s 330us/sample - loss: 0.0635 - accuracy: 0.9843 - val_loss: 0.0807 - val_accuracy: 0.9565\n",
      "Epoch 191/250\n",
      "127/127 [==============================] - 0s 314us/sample - loss: 0.0827 - accuracy: 0.9606 - val_loss: 0.0824 - val_accuracy: 0.9565\n",
      "Epoch 192/250\n",
      "127/127 [==============================] - 0s 358us/sample - loss: 0.0877 - accuracy: 0.9528 - val_loss: 0.0777 - val_accuracy: 0.9565\n",
      "Epoch 193/250\n",
      "127/127 [==============================] - 0s 332us/sample - loss: 0.0802 - accuracy: 0.9685 - val_loss: 0.0741 - val_accuracy: 0.9565\n",
      "Epoch 194/250\n",
      "127/127 [==============================] - 0s 306us/sample - loss: 0.0666 - accuracy: 0.9843 - val_loss: 0.0758 - val_accuracy: 0.9565\n",
      "Epoch 195/250\n",
      "127/127 [==============================] - 0s 314us/sample - loss: 0.0590 - accuracy: 0.9764 - val_loss: 0.0812 - val_accuracy: 0.9565\n",
      "Epoch 196/250\n",
      "127/127 [==============================] - 0s 330us/sample - loss: 0.0771 - accuracy: 0.9764 - val_loss: 0.0800 - val_accuracy: 0.9565\n",
      "Epoch 197/250\n",
      "127/127 [==============================] - 0s 306us/sample - loss: 0.1100 - accuracy: 0.9528 - val_loss: 0.0794 - val_accuracy: 0.9565\n",
      "Epoch 198/250\n",
      "127/127 [==============================] - 0s 307us/sample - loss: 0.0722 - accuracy: 0.9764 - val_loss: 0.0829 - val_accuracy: 0.9565\n",
      "Epoch 199/250\n",
      "127/127 [==============================] - 0s 320us/sample - loss: 0.0793 - accuracy: 0.9685 - val_loss: 0.0815 - val_accuracy: 0.9565\n",
      "Epoch 200/250\n",
      "127/127 [==============================] - 0s 314us/sample - loss: 0.0869 - accuracy: 0.9606 - val_loss: 0.0830 - val_accuracy: 0.9565\n",
      "Epoch 201/250\n",
      "127/127 [==============================] - 0s 352us/sample - loss: 0.0815 - accuracy: 0.9685 - val_loss: 0.0884 - val_accuracy: 0.9565\n",
      "Epoch 202/250\n",
      "127/127 [==============================] - 0s 370us/sample - loss: 0.0894 - accuracy: 0.9764 - val_loss: 0.0853 - val_accuracy: 0.9565\n",
      "Epoch 203/250\n",
      "127/127 [==============================] - 0s 378us/sample - loss: 0.0782 - accuracy: 0.9685 - val_loss: 0.0819 - val_accuracy: 0.9565\n",
      "Epoch 204/250\n",
      "127/127 [==============================] - 0s 364us/sample - loss: 0.0628 - accuracy: 0.9764 - val_loss: 0.0814 - val_accuracy: 0.9565\n",
      "Epoch 205/250\n",
      "127/127 [==============================] - 0s 354us/sample - loss: 0.0704 - accuracy: 0.9843 - val_loss: 0.0763 - val_accuracy: 0.9565\n",
      "Epoch 206/250\n",
      "127/127 [==============================] - 0s 385us/sample - loss: 0.0998 - accuracy: 0.9370 - val_loss: 0.0752 - val_accuracy: 0.9565\n",
      "Epoch 207/250\n",
      "127/127 [==============================] - 0s 378us/sample - loss: 0.0820 - accuracy: 0.9528 - val_loss: 0.0775 - val_accuracy: 0.9565\n",
      "Epoch 208/250\n",
      "127/127 [==============================] - 0s 356us/sample - loss: 0.0627 - accuracy: 0.9685 - val_loss: 0.0727 - val_accuracy: 0.9565\n",
      "Epoch 209/250\n",
      "127/127 [==============================] - 0s 512us/sample - loss: 0.0947 - accuracy: 0.9606 - val_loss: 0.0721 - val_accuracy: 0.9565\n",
      "Epoch 210/250\n",
      "127/127 [==============================] - 0s 360us/sample - loss: 0.0865 - accuracy: 0.9606 - val_loss: 0.0699 - val_accuracy: 0.9565\n",
      "Epoch 211/250\n",
      "127/127 [==============================] - 0s 375us/sample - loss: 0.0588 - accuracy: 0.9685 - val_loss: 0.0703 - val_accuracy: 0.9565\n",
      "Epoch 212/250\n",
      "127/127 [==============================] - 0s 361us/sample - loss: 0.0627 - accuracy: 0.9685 - val_loss: 0.0714 - val_accuracy: 0.9565\n",
      "Epoch 213/250\n",
      "127/127 [==============================] - 0s 368us/sample - loss: 0.0712 - accuracy: 0.9685 - val_loss: 0.0741 - val_accuracy: 0.9565\n",
      "Epoch 214/250\n",
      "127/127 [==============================] - 0s 377us/sample - loss: 0.0760 - accuracy: 0.9685 - val_loss: 0.0765 - val_accuracy: 0.9565\n",
      "Epoch 215/250\n",
      "127/127 [==============================] - 0s 339us/sample - loss: 0.0664 - accuracy: 0.9764 - val_loss: 0.0701 - val_accuracy: 0.9565\n",
      "Epoch 216/250\n",
      "127/127 [==============================] - 0s 588us/sample - loss: 0.0847 - accuracy: 0.9528 - val_loss: 0.0677 - val_accuracy: 0.9565\n",
      "Epoch 217/250\n",
      "127/127 [==============================] - 0s 329us/sample - loss: 0.0679 - accuracy: 0.9606 - val_loss: 0.0698 - val_accuracy: 0.9565\n",
      "Epoch 218/250\n",
      "127/127 [==============================] - 0s 311us/sample - loss: 0.1095 - accuracy: 0.9528 - val_loss: 0.0757 - val_accuracy: 0.9565\n",
      "Epoch 219/250\n",
      "127/127 [==============================] - 0s 322us/sample - loss: 0.0718 - accuracy: 0.9685 - val_loss: 0.0826 - val_accuracy: 0.9565\n",
      "Epoch 220/250\n",
      "127/127 [==============================] - 0s 320us/sample - loss: 0.0941 - accuracy: 0.9528 - val_loss: 0.0842 - val_accuracy: 0.9565\n",
      "Epoch 221/250\n",
      "127/127 [==============================] - 0s 322us/sample - loss: 0.0884 - accuracy: 0.9528 - val_loss: 0.0859 - val_accuracy: 0.9565\n",
      "Epoch 222/250\n",
      "127/127 [==============================] - 0s 302us/sample - loss: 0.0758 - accuracy: 0.9764 - val_loss: 0.0756 - val_accuracy: 0.9565\n",
      "Epoch 223/250\n",
      "127/127 [==============================] - 0s 330us/sample - loss: 0.0965 - accuracy: 0.9528 - val_loss: 0.0732 - val_accuracy: 0.9565\n",
      "Epoch 224/250\n",
      "127/127 [==============================] - 0s 317us/sample - loss: 0.0648 - accuracy: 0.9685 - val_loss: 0.0733 - val_accuracy: 0.9565\n",
      "Epoch 225/250\n",
      "127/127 [==============================] - 0s 317us/sample - loss: 0.0789 - accuracy: 0.9685 - val_loss: 0.0819 - val_accuracy: 0.9565\n",
      "Epoch 226/250\n",
      "127/127 [==============================] - 0s 338us/sample - loss: 0.0685 - accuracy: 0.9764 - val_loss: 0.0820 - val_accuracy: 0.9565\n",
      "Epoch 227/250\n",
      "127/127 [==============================] - 0s 322us/sample - loss: 0.0554 - accuracy: 0.9606 - val_loss: 0.0821 - val_accuracy: 0.9565\n",
      "Epoch 228/250\n",
      "127/127 [==============================] - 0s 313us/sample - loss: 0.0745 - accuracy: 0.9528 - val_loss: 0.0792 - val_accuracy: 0.9565\n",
      "Epoch 229/250\n",
      "127/127 [==============================] - 0s 322us/sample - loss: 0.0558 - accuracy: 0.9843 - val_loss: 0.0787 - val_accuracy: 0.9565\n",
      "Epoch 230/250\n",
      "127/127 [==============================] - 0s 322us/sample - loss: 0.0846 - accuracy: 0.9685 - val_loss: 0.0735 - val_accuracy: 0.9565\n",
      "Epoch 231/250\n",
      "127/127 [==============================] - 0s 508us/sample - loss: 0.0413 - accuracy: 0.9921 - val_loss: 0.0671 - val_accuracy: 0.9565\n",
      "Epoch 232/250\n",
      "127/127 [==============================] - 0s 517us/sample - loss: 0.0726 - accuracy: 0.9685 - val_loss: 0.0647 - val_accuracy: 0.9565\n",
      "Epoch 233/250\n",
      "127/127 [==============================] - 0s 521us/sample - loss: 0.0580 - accuracy: 0.9764 - val_loss: 0.0641 - val_accuracy: 0.9565\n",
      "Epoch 234/250\n",
      "127/127 [==============================] - 0s 521us/sample - loss: 0.0711 - accuracy: 0.9764 - val_loss: 0.0639 - val_accuracy: 0.9565\n",
      "Epoch 235/250\n",
      "127/127 [==============================] - 0s 330us/sample - loss: 0.0691 - accuracy: 0.9685 - val_loss: 0.0677 - val_accuracy: 0.9565\n",
      "Epoch 236/250\n",
      "127/127 [==============================] - 0s 325us/sample - loss: 0.0858 - accuracy: 0.9606 - val_loss: 0.0675 - val_accuracy: 0.9565\n",
      "Epoch 237/250\n",
      "127/127 [==============================] - 0s 306us/sample - loss: 0.0474 - accuracy: 0.9843 - val_loss: 0.0713 - val_accuracy: 0.9565\n",
      "Epoch 238/250\n",
      "127/127 [==============================] - 0s 309us/sample - loss: 0.0671 - accuracy: 0.9685 - val_loss: 0.0736 - val_accuracy: 0.9565\n",
      "Epoch 239/250\n",
      "127/127 [==============================] - 0s 322us/sample - loss: 0.0652 - accuracy: 0.9685 - val_loss: 0.0754 - val_accuracy: 0.9565\n",
      "Epoch 240/250\n",
      "127/127 [==============================] - 0s 321us/sample - loss: 0.0495 - accuracy: 0.9764 - val_loss: 0.0708 - val_accuracy: 0.9565\n",
      "Epoch 241/250\n",
      "127/127 [==============================] - 0s 318us/sample - loss: 0.0791 - accuracy: 0.9528 - val_loss: 0.0676 - val_accuracy: 0.9565\n",
      "Epoch 242/250\n",
      "127/127 [==============================] - 0s 511us/sample - loss: 0.0724 - accuracy: 0.9606 - val_loss: 0.0615 - val_accuracy: 0.9565\n",
      "Epoch 243/250\n",
      "127/127 [==============================] - 0s 516us/sample - loss: 0.0474 - accuracy: 0.9843 - val_loss: 0.0594 - val_accuracy: 0.9565\n",
      "Epoch 244/250\n",
      "127/127 [==============================] - 0s 331us/sample - loss: 0.0737 - accuracy: 0.9606 - val_loss: 0.0621 - val_accuracy: 0.9565\n",
      "Epoch 245/250\n",
      "127/127 [==============================] - 0s 513us/sample - loss: 0.0832 - accuracy: 0.9606 - val_loss: 0.0591 - val_accuracy: 0.9565\n",
      "Epoch 246/250\n",
      "127/127 [==============================] - 0s 322us/sample - loss: 0.0476 - accuracy: 0.9764 - val_loss: 0.0607 - val_accuracy: 0.9565\n",
      "Epoch 247/250\n",
      "127/127 [==============================] - 0s 499us/sample - loss: 0.0677 - accuracy: 0.9764 - val_loss: 0.0589 - val_accuracy: 0.9565\n",
      "Epoch 248/250\n",
      "127/127 [==============================] - 0s 322us/sample - loss: 0.0608 - accuracy: 0.9685 - val_loss: 0.0615 - val_accuracy: 0.9565\n",
      "Epoch 249/250\n",
      "127/127 [==============================] - 0s 320us/sample - loss: 0.0809 - accuracy: 0.9606 - val_loss: 0.0634 - val_accuracy: 0.9565\n",
      "Epoch 250/250\n",
      "127/127 [==============================] - 0s 331us/sample - loss: 0.0714 - accuracy: 0.9685 - val_loss: 0.0675 - val_accuracy: 0.9565\n"
     ]
    }
   ],
   "source": [
    "Historia = model.fit(X_train.values,\n",
    "                     Y_train.values,\n",
    "                     epochs = wandb.config.epochs,\n",
    "                     batch_size = wandb.config.batch_size,\n",
    "                     validation_data=(X_test.values,Y_test.values),\n",
    "                     callbacks=[WandbCallback()]\n",
    "                    )"
   ]
  },
  {
   "cell_type": "code",
   "execution_count": 27,
   "metadata": {},
   "outputs": [
    {
     "name": "stdout",
     "output_type": "stream",
     "text": [
      "127/1 - 0s - loss: 0.0307 - accuracy: 0.9764\n"
     ]
    }
   ],
   "source": [
    "lss, acc = model.evaluate(X_train.values,\n",
    "                          Y_train.values,\n",
    "                          batch_size=wandb.config.batch_size,\n",
    "                          verbose=2)"
   ]
  },
  {
   "cell_type": "code",
   "execution_count": 28,
   "metadata": {},
   "outputs": [
    {
     "data": {
      "image/png": "[encoded data removed]",
      "text/plain": [
       "<Figure size 432x288 with 1 Axes>"
      ]
     },
     "metadata": {},
     "output_type": "display_data"
    }
   ],
   "source": [
    "plt.plot(Historia.history['loss'], label='loss')\n",
    "plt.plot(Historia.history['val_loss'], label='val_loss')\n",
    "plt.legend()\n",
    "plt.show()"
   ]
  },
  {
   "cell_type": "code",
   "execution_count": 29,
   "metadata": {},
   "outputs": [
    {
     "data": {
      "image/png": "[encoded data removed]",
      "text/plain": [
       "<Figure size 432x288 with 1 Axes>"
      ]
     },
     "metadata": {},
     "output_type": "display_data"
    }
   ],
   "source": [
    "plt.plot(Historia.history['accuracy'], label='accuracy')\n",
    "plt.plot(Historia.history['val_accuracy'], label='val_accuracy')\n",
    "plt.legend()\n",
    "plt.show()"
   ]
  },
  {
   "cell_type": "code",
   "execution_count": 30,
   "metadata": {},
   "outputs": [
    {
     "name": "stdout",
     "output_type": "stream",
     "text": [
      "23/1 [==================================================================================================================================================================================================================================================================================================================================================================================================================================================================================================================================================================================================================================================================================================================] - 0s 2ms/sample\n",
      "Test Accuration : 95.65217391304348%\n",
      "Prediction :\n",
      "[1 2 2 1 1 2 0 2 0 1 1 0 2 0 0 0 1 2 2 1 2 0 2]\n",
      "Target :\n",
      "[1 2 2 1 1 2 0 2 0 1 1 0 2 0 0 0 1 1 2 1 2 0 2]\n"
     ]
    }
   ],
   "source": [
    "# the prediction results \n",
    "predicciones = model.predict_classes(X_test.values, batch_size=wandb.config.batch_size, verbose=1)\n",
    "\n",
    "real_acc = np.sum(predicciones == Y_test)/23.0 * 100\n",
    "\n",
    "print(\"Test Accuracy : \" + str(real_acc) + '%')\n",
    "print(\"Prediction :\")\n",
    "print(predicciones)\n",
    "print(\"Target :\")\n",
    "print(np.asarray(Y_test,dtype=\"int32\"))"
   ]
  },
  {
   "cell_type": "code",
   "execution_count": null,
   "metadata": {},
   "outputs": [],
   "source": []
  },
  {
   "cell_type": "markdown",
   "metadata": {},
   "source": [
    "### Mismo código pero ahora usaré SWEEP\n",
    "\n",
    "https://colab.research.google.com/github/wandb/examples/blob/master/sweeps-python/notebook.ipynb"
   ]
  },
  {
   "cell_type": "code",
   "execution_count": 1,
   "metadata": {},
   "outputs": [],
   "source": [
    "import os\n",
    "os.environ[\"CUDA_DEVICE_ORDER\"] = \"PCI_BUS_ID\"   # see issue #152\n",
    "os.environ[\"CUDA_VISIBLE_DEVICES\"] = \"\"\n",
    "\n",
    "def train():\n",
    "\n",
    "    import numpy as np\n",
    "    import pandas as pd\n",
    "    import seaborn as sns\n",
    "    import tensorflow as tf\n",
    "    from tensorflow.keras.models import Sequential\n",
    "    from tensorflow.keras.layers import Dense, Dropout\n",
    "    import matplotlib.pyplot as plt\n",
    "    from sklearn.model_selection import train_test_split\n",
    "    from sklearn.preprocessing import StandardScaler, LabelEncoder\n",
    "    from wandb.keras import WandbCallback\n",
    "\n",
    "    hyperparametres={\"epochs\":     111,\n",
    "                     \"batch_size\": 11,\n",
    "                     \"Dropout\":    0.11,\n",
    "                     \"optimizer\": 'Adam'\n",
    "                    }\n",
    "\n",
    "    wandb.init(config=hyperparametres)\n",
    "    config = wandb.config\n",
    "\n",
    "    print(\">>>> Configuracion cargada:\", dict(config))\n",
    "\n",
    "    data = pd.read_csv('iris.csv')\n",
    "\n",
    "    print('Iris loaded')\n",
    "\n",
    "    LabelChanger = LabelEncoder()\n",
    "    LabelChanger.fit(data['Species'])\n",
    "    data['Clases'] = LabelChanger.transform(data['Species'])\n",
    "\n",
    "    X = data[['SepalLengthCm', 'SepalWidthCm', 'PetalLengthCm', 'PetalWidthCm']]\n",
    "    Y = data['Clases']\n",
    "\n",
    "    X_train, X_test, Y_train, Y_test = train_test_split(X,\n",
    "                                                        Y,\n",
    "                                                        test_size = 0.15,\n",
    "                                                        stratify = Y)\n",
    "\n",
    "    # Mean Normalization (Standarize the features to follow the normal distribution, to obtain a faster & better classifier)\n",
    "    sc = StandardScaler()\n",
    "\n",
    "    X_train_array = sc.fit_transform(X_train.values) #calculate μ & σ(fit) and apply the transformation(transform)\n",
    "\n",
    "    # Assign the scaled data to a DataFrame & use the index and columns arguments to keep your original indices and column names:\n",
    "    X_train = pd.DataFrame(X_train_array, index=X_train.index, columns=X_train.columns)\n",
    "\n",
    "    # Center test data. Use the μ & σ computed (fitted) on training data\n",
    "    X_test_array = sc.transform(X_test.values)\n",
    "    X_test = pd.DataFrame(X_test_array, index=X_test.index, columns=X_test.columns)\n",
    "\n",
    "    # Initializing Neural Network\n",
    "    model = Sequential(name='ANN')\n",
    "\n",
    "    model.add(Dense(units=12, activation='selu', kernel_initializer = 'lecun_normal', input_dim=4,))\n",
    "    model.add(Dropout(config.Dropout))\n",
    "    model.add(Dense(units=12, activation='selu', kernel_initializer = 'lecun_normal'))\n",
    "\n",
    "    model.add(Dense(units=3, activation='softmax', kernel_initializer = 'GlorotNormal'))\n",
    "    model.summary()\n",
    "\n",
    "    model.compile(loss='sparse_categorical_crossentropy',\n",
    "                  optimizer=config.optimizer,\n",
    "                  metrics=['accuracy']\n",
    "                 )\n",
    "\n",
    "    Historia = model.fit(X_train.values,\n",
    "                         Y_train.values,\n",
    "                         epochs = config.epochs,\n",
    "                         batch_size = config.batch_size,\n",
    "                         validation_data = (X_test.values, Y_test.values),\n",
    "                         callbacks=[WandbCallback()]\n",
    "                        )\n",
    "\n",
    "    # lss, acc = model.evaluate(X_train.values,\n",
    "    #                           Y_train.values,\n",
    "    #                           batch_size=config.batch_size,\n",
    "    #                           verbose=2)\n",
    "\n",
    "    # # Log metrics inside your training loop\n",
    "    # metrics = {'accuracy': acc, 'loss': lss}\n",
    "    # wandb.log(metrics)\n",
    "\n",
    "    # print('Model accuracy:', acc)\n",
    "\n",
    "    # # the prediction results\n",
    "    # predicciones = model.predict_classes(X_test.values, batch_size=config.batch_size, verbose=1)\n",
    "\n",
    "    # real_acc = np.sum(predicciones == Y_test)/23.0 * 100\n",
    "\n",
    "    # print(\"Test Accuracy : \" + str(real_acc) + '%')\n",
    "\n",
    "    print('Finish!')"
   ]
  },
  {
   "cell_type": "code",
   "execution_count": 2,
   "metadata": {},
   "outputs": [
    {
     "name": "stdout",
     "output_type": "stream",
     "text": [
      "Create sweep with ID: fi3icenn\n",
      "Sweep URL: https://app.wandb.ai/kevinpulido89/Iris_with_ANN/sweeps/fi3icenn\n",
      "wandb: Agent Starting Run: m4r454c5 with config:\n",
      "\tDropout: 0.5\n",
      "\tbatch_size: 20\n",
      "\tepochs: 20\n"
     ]
    },
    {
     "name": "stderr",
     "output_type": "stream",
     "text": [
      "wandb: Ctrl-c pressed. Waiting for runs to end. Press ctrl-c again to terminate them.\n"
     ]
    }
   ],
   "source": [
    "sweep_config = {\n",
    "    'name': \"SweepFromLocal\",\n",
    "    'method': 'grid',\n",
    "    'parameters': {\n",
    "        'Dropout':    {'values': [0.2, 0.25, 0.3, 0.35]},\n",
    "        'batch_size': {'values': [12, 18, 24, 32]},\n",
    "        'epochs':     {'values': [150, 200, 250, 300]}\n",
    "        }\n",
    "}\n",
    "\n",
    "import wandb\n",
    "\n",
    "sweep_id = wandb.sweep(sweep_config, project='Iris_with_ANN')\n",
    "wandb.agent(sweep_id, function=train)"
   ]
  },
  {
   "cell_type": "markdown",
   "metadata": {},
   "source": [
    "## Other ANN"
   ]
  },
  {
   "cell_type": "code",
   "execution_count": null,
   "metadata": {},
   "outputs": [],
   "source": [
    "import scipy.stats as ss\n",
    "import numpy as np\n",
    "import matplotlib.pyplot as plt\n",
    "from time import time\n",
    "from math import sqrt\n",
    "import pandas as pd\n",
    "import math\n",
    "from sklearn.neural_network import MLPClassifier\n",
    "from sklearn.model_selection import train_test_split\n",
    "from sklearn.preprocessing import StandardScaler\n",
    "from sklearn.metrics import classification_report,confusion_matrix"
   ]
  },
  {
   "cell_type": "code",
   "execution_count": 2,
   "metadata": {},
   "outputs": [],
   "source": [
    "def Distancia_Euclidiana(px1,py1,px2,py2):\n",
    "    return sqrt((px2-px1)**2+(py2-py1)**2)"
   ]
  },
  {
   "cell_type": "code",
   "execution_count": 3,
   "metadata": {},
   "outputs": [
    {
     "data": {
      "image/png": "[encoded data removed]",
      "text/plain": [
       "<Figure size 432x288 with 1 Axes>"
      ]
     },
     "metadata": {
      "needs_background": "light"
     },
     "output_type": "display_data"
    }
   ],
   "source": [
    "# Create data\n",
    "\n",
    "N = 1500\n",
    "x = 15 + 10 * np.random.rand(N)\n",
    "y = 15 + 10 * np.random.rand(N)\n",
    "\n",
    "xy = list(zip(x,y))\n",
    "claseA = list()\n",
    "claseB = list()\n",
    "for t in xy:\n",
    "    dist = Distancia_Euclidiana(19,21,t[0],t[1])\n",
    "    if dist < math.e:\n",
    "        claseA.append((t[0],t[1]))\n",
    "    else:\n",
    "        claseB.append((t[0],t[1]))\n",
    "        \n",
    "Ax, Ay = zip(*claseA)\n",
    "Bx, By = zip(*claseB)\n",
    "\n",
    "plt.scatter(Ax, Ay, c='coral')\n",
    "plt.scatter(Bx, By, c='lightblue')\n",
    "\n",
    "plt.title('Nuage de points avec Matplotlib')\n",
    "plt.axis('equal')\n",
    "plt.xlabel('x')\n",
    "plt.ylabel('y')\n",
    "plt.show()"
   ]
  },
  {
   "cell_type": "code",
   "execution_count": 4,
   "metadata": {},
   "outputs": [],
   "source": [
    "A = dict({\n",
    "    'x':Ax,\n",
    "    'y':Ay,\n",
    "    'C':1.0\n",
    "})\n",
    "\n",
    "B = dict({\n",
    "    'x':Bx,\n",
    "    'y':By,\n",
    "    'C':0.0\n",
    "})\n",
    "dfA = pd.DataFrame(A)\n",
    "dfB = pd.DataFrame(B)\n",
    "dataset = dfA.append(dfB, sort=False)\n",
    "# dataset"
   ]
  },
  {
   "cell_type": "code",
   "execution_count": 5,
   "metadata": {},
   "outputs": [
    {
     "data": {
      "text/plain": [
       "<matplotlib.axes._subplots.AxesSubplot at 0x183e2e002e8>"
      ]
     },
     "execution_count": 5,
     "metadata": {},
     "output_type": "execute_result"
    },
    {
     "data": {
      "image/png": "[encoded data removed]",
      "text/plain": [
       "<Figure size 432x288 with 2 Axes>"
      ]
     },
     "metadata": {
      "needs_background": "light"
     },
     "output_type": "display_data"
    }
   ],
   "source": [
    "features = dataset.iloc[:,0:2]\n",
    "clases = dataset['C']\n",
    "\n",
    "X_train, X_test, y_train, y_test = train_test_split(features, clases, test_size=0.25, random_state=42)\n",
    "dataset.plot.scatter(x='x',y='y',c='C', colormap='viridis')"
   ]
  },
  {
   "cell_type": "code",
   "execution_count": 6,
   "metadata": {},
   "outputs": [
    {
     "name": "stderr",
     "output_type": "stream",
     "text": [
      "C:\\Anaconda3\\lib\\site-packages\\sklearn\\neural_network\\multilayer_perceptron.py:566: ConvergenceWarning: Stochastic Optimizer: Maximum iterations (200) reached and the optimization hasn't converged yet.\n",
      "  % self.max_iter, ConvergenceWarning)\n"
     ]
    },
    {
     "data": {
      "text/plain": [
       "MLPClassifier(activation='relu', alpha=1e-05, batch_size='auto', beta_1=0.9,\n",
       "              beta_2=0.999, early_stopping=False, epsilon=1e-08,\n",
       "              hidden_layer_sizes=(16, 8, 4), learning_rate='constant',\n",
       "              learning_rate_init=0.001, max_iter=200, momentum=0.9,\n",
       "              n_iter_no_change=10, nesterovs_momentum=True, power_t=0.5,\n",
       "              random_state=1, shuffle=True, solver='adam', tol=0.0001,\n",
       "              validation_fraction=0.1, verbose=False, warm_start=False)"
      ]
     },
     "execution_count": 6,
     "metadata": {},
     "output_type": "execute_result"
    }
   ],
   "source": [
    "clf = MLPClassifier(activation='relu',solver='adam', alpha=1e-5,\n",
    "                    hidden_layer_sizes=(16,8,4), random_state=1)\n",
    "\n",
    "clf.fit(X_train, y_train) "
   ]
  },
  {
   "cell_type": "code",
   "execution_count": 7,
   "metadata": {},
   "outputs": [
    {
     "name": "stdout",
     "output_type": "stream",
     "text": [
      "[[260  29]\n",
      " [ 51  35]]\n",
      "              precision    recall  f1-score   support\n",
      "\n",
      "         0.0       0.84      0.90      0.87       289\n",
      "         1.0       0.55      0.41      0.47        86\n",
      "\n",
      "    accuracy                           0.79       375\n",
      "   macro avg       0.69      0.65      0.67       375\n",
      "weighted avg       0.77      0.79      0.77       375\n",
      "\n"
     ]
    }
   ],
   "source": [
    "from sklearn.metrics import classification_report,confusion_matrix\n",
    "\n",
    "predictions = clf.predict(X_test)\n",
    "print(confusion_matrix(y_test,predictions))\n",
    "print(classification_report(y_test,predictions))"
   ]
  },
  {
   "cell_type": "code",
   "execution_count": 8,
   "metadata": {},
   "outputs": [
    {
     "data": {
      "text/plain": [
       "array([1.])"
      ]
     },
     "execution_count": 8,
     "metadata": {},
     "output_type": "execute_result"
    }
   ],
   "source": [
    "clf.predict(np.array([[19, 21]]))"
   ]
  },
  {
   "cell_type": "code",
   "execution_count": 9,
   "metadata": {},
   "outputs": [
    {
     "name": "stderr",
     "output_type": "stream",
     "text": [
      "Using TensorFlow backend.\n"
     ]
    }
   ],
   "source": [
    "# first neural network with keras tutorial\n",
    "from keras.models import Sequential\n",
    "from keras.layers import Dense"
   ]
  },
  {
   "cell_type": "code",
   "execution_count": 10,
   "metadata": {},
   "outputs": [
    {
     "name": "stdout",
     "output_type": "stream",
     "text": [
      "WARNING:tensorflow:From C:\\Anaconda3\\lib\\site-packages\\keras\\backend\\tensorflow_backend.py:74: The name tf.get_default_graph is deprecated. Please use tf.compat.v1.get_default_graph instead.\n",
      "\n",
      "WARNING:tensorflow:From C:\\Anaconda3\\lib\\site-packages\\keras\\backend\\tensorflow_backend.py:517: The name tf.placeholder is deprecated. Please use tf.compat.v1.placeholder instead.\n",
      "\n",
      "WARNING:tensorflow:From C:\\Anaconda3\\lib\\site-packages\\keras\\backend\\tensorflow_backend.py:4185: The name tf.truncated_normal is deprecated. Please use tf.random.truncated_normal instead.\n",
      "\n",
      "WARNING:tensorflow:From C:\\Anaconda3\\lib\\site-packages\\keras\\backend\\tensorflow_backend.py:4138: The name tf.random_uniform is deprecated. Please use tf.random.uniform instead.\n",
      "\n"
     ]
    }
   ],
   "source": [
    "# define the keras model\n",
    "model = Sequential()\n",
    "model.add(Dense(32, input_dim=2, activation='relu',kernel_initializer='he_normal'))\n",
    "model.add(Dense(32, activation='relu',kernel_initializer='he_normal'))\n",
    "model.add(Dense(16, activation='relu',kernel_initializer='he_normal'))\n",
    "model.add(Dense(8, activation='relu',kernel_initializer='he_normal'))\n",
    "model.add(Dense(1, activation='sigmoid'))"
   ]
  },
  {
   "cell_type": "code",
   "execution_count": 11,
   "metadata": {},
   "outputs": [
    {
     "name": "stdout",
     "output_type": "stream",
     "text": [
      "WARNING:tensorflow:From C:\\Anaconda3\\lib\\site-packages\\keras\\optimizers.py:790: The name tf.train.Optimizer is deprecated. Please use tf.compat.v1.train.Optimizer instead.\n",
      "\n",
      "WARNING:tensorflow:From C:\\Anaconda3\\lib\\site-packages\\keras\\backend\\tensorflow_backend.py:3376: The name tf.log is deprecated. Please use tf.math.log instead.\n",
      "\n",
      "WARNING:tensorflow:From C:\\Anaconda3\\lib\\site-packages\\tensorflow\\python\\ops\\nn_impl.py:180: add_dispatch_support.<locals>.wrapper (from tensorflow.python.ops.array_ops) is deprecated and will be removed in a future version.\n",
      "Instructions for updating:\n",
      "Use tf.where in 2.0, which has the same broadcast rule as np.where\n"
     ]
    }
   ],
   "source": [
    "# compile the keras model\n",
    "model.compile(loss='binary_crossentropy',\n",
    "              optimizer='adam',\n",
    "              metrics=['accuracy'])"
   ]
  },
  {
   "cell_type": "code",
   "execution_count": 12,
   "metadata": {
    "scrolled": true
   },
   "outputs": [
    {
     "name": "stdout",
     "output_type": "stream",
     "text": [
      "Train on 1012 samples, validate on 113 samples\n",
      "Epoch 1/50\n",
      "1012/1012 [==============================] - 5s 5ms/step - loss: 0.5348 - acc: 0.7302 - val_loss: 0.4744 - val_acc: 0.6814\n",
      "Epoch 2/50\n",
      "1012/1012 [==============================] - 1s 917us/step - loss: 0.4383 - acc: 0.7599 - val_loss: 0.4447 - val_acc: 0.7611\n",
      "Epoch 3/50\n",
      "1012/1012 [==============================] - 1s 1ms/step - loss: 0.4284 - acc: 0.7490 - val_loss: 0.4755 - val_acc: 0.7611\n",
      "Epoch 4/50\n",
      "1012/1012 [==============================] - 2s 2ms/step - loss: 0.4157 - acc: 0.7540 - val_loss: 0.4272 - val_acc: 0.7611\n",
      "Epoch 5/50\n",
      "1012/1012 [==============================] - 1s 1ms/step - loss: 0.4156 - acc: 0.7559 - val_loss: 0.4388 - val_acc: 0.7080\n",
      "Epoch 6/50\n",
      "1012/1012 [==============================] - 1s 912us/step - loss: 0.4130 - acc: 0.7619 - val_loss: 0.5841 - val_acc: 0.6726\n",
      "Epoch 7/50\n",
      "1012/1012 [==============================] - 1s 1ms/step - loss: 0.4147 - acc: 0.7599 - val_loss: 0.4447 - val_acc: 0.7080\n",
      "Epoch 8/50\n",
      "1012/1012 [==============================] - 1s 1ms/step - loss: 0.4038 - acc: 0.7540 - val_loss: 0.4402 - val_acc: 0.7611\n",
      "Epoch 9/50\n",
      "1012/1012 [==============================] - 1s 869us/step - loss: 0.4208 - acc: 0.7510 - val_loss: 0.4356 - val_acc: 0.7611\n",
      "Epoch 10/50\n",
      "1012/1012 [==============================] - 1s 825us/step - loss: 0.4030 - acc: 0.7619 - val_loss: 0.4316 - val_acc: 0.7345\n",
      "Epoch 11/50\n",
      "1012/1012 [==============================] - 1s 806us/step - loss: 0.3932 - acc: 0.7569 - val_loss: 0.4345 - val_acc: 0.7611\n",
      "Epoch 12/50\n",
      "1012/1012 [==============================] - 1s 1ms/step - loss: 0.3970 - acc: 0.7530 - val_loss: 0.4242 - val_acc: 0.7257\n",
      "Epoch 13/50\n",
      "1012/1012 [==============================] - 1s 1ms/step - loss: 0.3961 - acc: 0.7619 - val_loss: 0.4245 - val_acc: 0.7611\n",
      "Epoch 14/50\n",
      "1012/1012 [==============================] - 1s 1ms/step - loss: 0.3978 - acc: 0.7658 - val_loss: 0.4290 - val_acc: 0.7611\n",
      "Epoch 15/50\n",
      "1012/1012 [==============================] - 1s 1ms/step - loss: 0.3918 - acc: 0.7698 - val_loss: 0.4268 - val_acc: 0.7080\n",
      "Epoch 16/50\n",
      "1012/1012 [==============================] - 1s 1ms/step - loss: 0.3929 - acc: 0.7470 - val_loss: 0.4306 - val_acc: 0.7788\n",
      "Epoch 17/50\n",
      "1012/1012 [==============================] - 1s 1ms/step - loss: 0.4089 - acc: 0.7520 - val_loss: 0.4409 - val_acc: 0.6991\n",
      "Epoch 18/50\n",
      "1012/1012 [==============================] - 1s 1ms/step - loss: 0.3971 - acc: 0.7569 - val_loss: 0.4206 - val_acc: 0.7611\n",
      "Epoch 19/50\n",
      "1012/1012 [==============================] - 1s 1ms/step - loss: 0.4037 - acc: 0.7391 - val_loss: 0.4325 - val_acc: 0.6991\n",
      "Epoch 20/50\n",
      "1012/1012 [==============================] - 1s 1ms/step - loss: 0.3909 - acc: 0.7678 - val_loss: 0.4346 - val_acc: 0.7257\n",
      "Epoch 21/50\n",
      "1012/1012 [==============================] - 2s 1ms/step - loss: 0.3979 - acc: 0.7559 - val_loss: 0.4315 - val_acc: 0.7080\n",
      "Epoch 22/50\n",
      "1012/1012 [==============================] - 2s 2ms/step - loss: 0.3922 - acc: 0.7678 - val_loss: 0.4628 - val_acc: 0.7611\n",
      "Epoch 23/50\n",
      "1012/1012 [==============================] - 1s 1ms/step - loss: 0.3995 - acc: 0.7648 - val_loss: 0.4183 - val_acc: 0.7611\n",
      "Epoch 24/50\n",
      "1012/1012 [==============================] - 1s 1ms/step - loss: 0.3946 - acc: 0.7451 - val_loss: 0.4222 - val_acc: 0.7611\n",
      "Epoch 25/50\n",
      "1012/1012 [==============================] - 1s 1ms/step - loss: 0.3891 - acc: 0.7559 - val_loss: 0.4495 - val_acc: 0.7611\n",
      "Epoch 26/50\n",
      "1012/1012 [==============================] - 1s 1ms/step - loss: 0.3982 - acc: 0.7589 - val_loss: 0.4278 - val_acc: 0.7257\n",
      "Epoch 27/50\n",
      "1012/1012 [==============================] - 1s 1ms/step - loss: 0.3871 - acc: 0.7688 - val_loss: 0.4739 - val_acc: 0.6903\n",
      "Epoch 28/50\n",
      "1012/1012 [==============================] - 1s 1ms/step - loss: 0.4023 - acc: 0.7480 - val_loss: 0.4285 - val_acc: 0.7168\n",
      "Epoch 29/50\n",
      "1012/1012 [==============================] - 1s 1ms/step - loss: 0.3949 - acc: 0.7470 - val_loss: 0.4269 - val_acc: 0.6991\n",
      "Epoch 30/50\n",
      "1012/1012 [==============================] - 1s 1ms/step - loss: 0.4027 - acc: 0.7401 - val_loss: 0.4222 - val_acc: 0.7522\n",
      "Epoch 31/50\n",
      "1012/1012 [==============================] - 1s 1ms/step - loss: 0.3955 - acc: 0.7510 - val_loss: 0.4361 - val_acc: 0.6814\n",
      "Epoch 32/50\n",
      "1012/1012 [==============================] - 1s 1ms/step - loss: 0.3949 - acc: 0.7540 - val_loss: 0.4029 - val_acc: 0.7611\n",
      "Epoch 33/50\n",
      "1012/1012 [==============================] - 1s 1ms/step - loss: 0.3886 - acc: 0.7708 - val_loss: 0.4333 - val_acc: 0.7611\n",
      "Epoch 34/50\n",
      "1012/1012 [==============================] - 1s 1ms/step - loss: 0.3905 - acc: 0.7658 - val_loss: 0.4439 - val_acc: 0.7522\n",
      "Epoch 35/50\n",
      "1012/1012 [==============================] - 1s 1ms/step - loss: 0.3928 - acc: 0.7431 - val_loss: 0.4224 - val_acc: 0.7522\n",
      "Epoch 36/50\n",
      "1012/1012 [==============================] - 1s 1ms/step - loss: 0.3853 - acc: 0.7559 - val_loss: 0.5051 - val_acc: 0.7611\n",
      "Epoch 37/50\n",
      "1012/1012 [==============================] - 1s 1ms/step - loss: 0.3922 - acc: 0.7441 - val_loss: 0.4206 - val_acc: 0.7611\n",
      "Epoch 38/50\n",
      "1012/1012 [==============================] - 1s 997us/step - loss: 0.3889 - acc: 0.7648 - val_loss: 0.4237 - val_acc: 0.6814\n",
      "Epoch 39/50\n",
      "1012/1012 [==============================] - 1s 1ms/step - loss: 0.3912 - acc: 0.7589 - val_loss: 0.4174 - val_acc: 0.7434\n",
      "Epoch 40/50\n",
      "1012/1012 [==============================] - 1s 1ms/step - loss: 0.3873 - acc: 0.7599 - val_loss: 0.4254 - val_acc: 0.7611\n",
      "Epoch 41/50\n",
      "1012/1012 [==============================] - 1s 1ms/step - loss: 0.3859 - acc: 0.7540 - val_loss: 0.4949 - val_acc: 0.7611\n",
      "Epoch 42/50\n",
      "1012/1012 [==============================] - 1s 1ms/step - loss: 0.3908 - acc: 0.7589 - val_loss: 0.4207 - val_acc: 0.7611\n",
      "Epoch 43/50\n",
      "1012/1012 [==============================] - 1s 1ms/step - loss: 0.3924 - acc: 0.7520 - val_loss: 0.4105 - val_acc: 0.7257\n",
      "Epoch 44/50\n",
      "1012/1012 [==============================] - 1s 1ms/step - loss: 0.3871 - acc: 0.7638 - val_loss: 0.4474 - val_acc: 0.7699\n",
      "Epoch 45/50\n",
      "1012/1012 [==============================] - 1s 1ms/step - loss: 0.3911 - acc: 0.7372 - val_loss: 0.4204 - val_acc: 0.7080\n",
      "Epoch 46/50\n",
      "1012/1012 [==============================] - 1s 1ms/step - loss: 0.3848 - acc: 0.7589 - val_loss: 0.4092 - val_acc: 0.7876\n",
      "Epoch 47/50\n",
      "1012/1012 [==============================] - 1s 1ms/step - loss: 0.3843 - acc: 0.7589 - val_loss: 0.4045 - val_acc: 0.7788\n",
      "Epoch 48/50\n",
      "1012/1012 [==============================] - 1s 993us/step - loss: 0.3865 - acc: 0.7549 - val_loss: 0.4369 - val_acc: 0.7788\n",
      "Epoch 49/50\n",
      "1012/1012 [==============================] - 1s 1ms/step - loss: 0.3844 - acc: 0.7727 - val_loss: 0.4210 - val_acc: 0.7611\n",
      "Epoch 50/50\n",
      "1012/1012 [==============================] - 1s 1ms/step - loss: 0.3886 - acc: 0.7609 - val_loss: 0.4294 - val_acc: 0.6903\n"
     ]
    },
    {
     "data": {
      "text/plain": [
       "<keras.callbacks.History at 0x183e9dfe0b8>"
      ]
     },
     "execution_count": 12,
     "metadata": {},
     "output_type": "execute_result"
    }
   ],
   "source": [
    "# fit the keras model on the dataset\n",
    "model.fit(X_train,\n",
    "          y_train,\n",
    "          epochs=50,\n",
    "          validation_split=0.1,\n",
    "          batch_size=10)"
   ]
  },
  {
   "cell_type": "code",
   "execution_count": 13,
   "metadata": {},
   "outputs": [
    {
     "name": "stdout",
     "output_type": "stream",
     "text": [
      "1125/1125 [==============================] - 0s 163us/step\n",
      "Accuracy: 73.69\n"
     ]
    }
   ],
   "source": [
    "# evaluate the keras model\n",
    "_, accuracy = model.evaluate(X_train, y_train)\n",
    "print('Accuracy: %.2f' % (accuracy*100))"
   ]
  },
  {
   "cell_type": "code",
   "execution_count": 1,
   "metadata": {},
   "outputs": [],
   "source": [
    "from tensorflow.keras.models import Sequential\n",
    "from tensorflow.keras.layers import Dense, Conv2D, MaxPooling2D, Flatten\n",
    "from tensorflow.keras.optimizers import Adam"
   ]
  },
  {
   "cell_type": "code",
   "execution_count": 9,
   "metadata": {},
   "outputs": [
    {
     "name": "stdout",
     "output_type": "stream",
     "text": [
      "Model: \"sequential_4\"\n",
      "_________________________________________________________________\n",
      "Layer (type)                 Output Shape              Param #   \n",
      "=================================================================\n",
      "conv2d_8 (Conv2D)            (None, 28, 28, 6)         456       \n",
      "_________________________________________________________________\n",
      "max_pooling2d_8 (MaxPooling2 (None, 14, 14, 6)         0         \n",
      "_________________________________________________________________\n",
      "conv2d_9 (Conv2D)            (None, 10, 10, 16)        2416      \n",
      "_________________________________________________________________\n",
      "max_pooling2d_9 (MaxPooling2 (None, 5, 5, 16)          0         \n",
      "_________________________________________________________________\n",
      "flatten_4 (Flatten)          (None, 400)               0         \n",
      "_________________________________________________________________\n",
      "dense_12 (Dense)             (None, 120)               48120     \n",
      "_________________________________________________________________\n",
      "dense_13 (Dense)             (None, 84)                10164     \n",
      "_________________________________________________________________\n",
      "dense_14 (Dense)             (None, 10)                850       \n",
      "=================================================================\n",
      "Total params: 62,006\n",
      "Trainable params: 62,006\n",
      "Non-trainable params: 0\n",
      "_________________________________________________________________\n"
     ]
    }
   ],
   "source": [
    "# https://medium.com/@yugkhanna1/building-a-5-layer-cnn-model-with-keras-to-identify-handwritten-digits-complex-yet-simple-f06b8b375346\n",
    "\n",
    "model = Sequential()\n",
    "\n",
    "# First Layer\n",
    "model.add(Conv2D(filters=6,\n",
    "                 kernel_size=(5, 5),\n",
    "                 strides=(1, 1),\n",
    "                 padding='valid',\n",
    "                 activation='relu',\n",
    "                 input_shape=(32, 32, 3)))\n",
    "model.add(MaxPooling2D(pool_size=(2, 2),\n",
    "                       strides=(2, 2)))\n",
    "\n",
    "# Second Layer\n",
    "model.add(Conv2D(filters=16,\n",
    "                 kernel_size=(5, 5),\n",
    "                 strides=(1, 1),\n",
    "                 padding='valid',\n",
    "                 activation='relu'))\n",
    "model.add(MaxPooling2D(pool_size=(2, 2),\n",
    "                       strides=(2, 2)))\n",
    "\n",
    "# Fully connected\n",
    "model.add(Flatten())\n",
    "model.add(Dense(units=120, activation='relu'))\n",
    "model.add(Dense(units= 84, activation='relu'))\n",
    "model.add(Dense(units= 10, activation='softmax'))\n",
    "\n",
    "optimizer=Adam(lr=0.001)\n",
    "model.compile(optimizer = optimizer,\n",
    "              loss = \"categorical_crossentropy\",\n",
    "              metrics=[\"accuracy\"])\n",
    "\n",
    "model.summary()"
   ]
  }
 ],
 "metadata": {
  "kernelspec": {
   "display_name": "Python 3",
   "language": "python",
   "name": "python3"
  },
  "language_info": {
   "codemirror_mode": {
    "name": "ipython",
    "version": 3
   },
   "file_extension": ".py",
   "mimetype": "text/x-python",
   "name": "python",
   "nbconvert_exporter": "python",
   "pygments_lexer": "ipython3",
   "version": "3.7.7"
  }
 },
 "nbformat": 4,
 "nbformat_minor": 4
}
