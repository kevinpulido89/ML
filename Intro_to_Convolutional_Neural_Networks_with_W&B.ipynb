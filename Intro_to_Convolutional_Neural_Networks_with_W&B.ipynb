{
  "nbformat": 4,
  "nbformat_minor": 0,
  "metadata": {
    "colab": {
      "name": "Intro to Convolutional Neural Networks with W&B.ipynb",
      "provenance": [],
      "collapsed_sections": [],
      "include_colab_link": true
    },
    "kernelspec": {
      "name": "python3",
      "display_name": "Python 3"
    },
    "accelerator": "GPU"
  },
  "cells": [
    {
      "cell_type": "markdown",
      "metadata": {
        "id": "view-in-github",
        "colab_type": "text"
      },
      "source": [
        "<a href=\"https://colab.research.google.com/github/kevinpulido89/ML/blob/master/Intro_to_Convolutional_Neural_Networks_with_W%26B.ipynb\" target=\"_parent\"><img src=\"https://colab.research.google.com/assets/colab-badge.svg\" alt=\"Open In Colab\"/></a>"
      ]
    },
    {
      "cell_type": "markdown",
      "metadata": {
        "id": "PsG4aq28aT0g",
        "colab_type": "text"
      },
      "source": [
        "# Welcome!\n",
        "In this tutorial we'll walk through a simple convolutional neural network to classify the images in the cifar10 dataset.\n",
        "\n",
        "We’ll also set up Weights & Biases to log models metrics, inspect performance and share findings about the best architecture for the network. In this example we're using Google Colab as a convenient hosted environment, but you can run your own training scripts from anywhere and visualize metrics with W&B's experiment tracking tool.\n",
        "\n",
        "### Running This Notebook\n",
        "1. Click \"Open in playground\" to create a copy of this notebook for yourself.\n",
        "2. Save a copy in Google Drive for yourself.\n",
        "3. To enable a GPU, please click Edit > Notebook Settings. Change the \"hardware accelerator\" to GPU.\n",
        "4. Step through each section below, pressing play on the code blocks to run the cells.\n",
        "\n",
        "Results will be logged to a [shared W&B project page](https://app.wandb.ai/wandb/cnn-intro).\n",
        "\n",
        "We highly encourage you to fork this notebook, tweak the parameters, or try the model with your own dataset!\n",
        "\n",
        "# Convolutional Neural Networks\n",
        "**[Slides](https://www.dropbox.com/s/hhb2ohd8wdpccnr/Bloomberg%20Class%202.pdf?dl=0)**\n",
        "\n",
        "![](https://paper-attachments.dropbox.com/s_92F7A2BE132D5E4492B0E3FF3430FFF0FB2390A4135C0D77582A2D21A2EF8567_1573598995521_Screenshot+2019-11-12+14.49.51.png)\n",
        "\n",
        "**Convolution Layer** The convolution layer is made up of a set of independent filters. Each filter slides over the image and creates feature maps that learn different aspects of an image.\n",
        "\n",
        "![](https://paper-attachments.dropbox.com/s_92F7A2BE132D5E4492B0E3FF3430FFF0FB2390A4135C0D77582A2D21A2EF8567_1573598824588_Screenshot+2019-11-12+14.46.40.png)\n",
        "\n",
        "**Convolutional Neural Network**\n",
        "A CNN uses convolutions to connected extract features from local regions of an input. Most CNNs contain a combination of convolutional, pooling and affine layers. CNNs offer fantastic performance on visual recognition tasks, where they have become the state of the art.\n",
        "\n",
        "![](https://paper-attachments.dropbox.com/s_92F7A2BE132D5E4492B0E3FF3430FFF0FB2390A4135C0D77582A2D21A2EF8567_1573598824566_Screenshot+2019-11-12+14.46.59.png)\n",
        "\n",
        "**Pooling** The pooling layer reduce the size of the image representation and so the number of parameters and computation in the network. Pooling usually involves taking either the maximum or average value across the pooled area.\n",
        "\n",
        "![](https://paper-attachments.dropbox.com/s_92F7A2BE132D5E4492B0E3FF3430FFF0FB2390A4135C0D77582A2D21A2EF8567_1573598953569_Screenshot+2019-11-12+14.49.10.png)\n",
        "\n",
        "### Basic Convolutional Neural Network"
      ]
    },
    {
      "cell_type": "code",
      "metadata": {
        "id": "1uPzxFXAlqwk",
        "colab_type": "code",
        "outputId": "25e6141f-d0b5-4c25-f486-e83ae241f279",
        "colab": {
          "base_uri": "https://localhost:8080/",
          "height": 238
        }
      },
      "source": [
        "# Install wandb\n",
        "%pip install -qq wandb\n",
        "#import libraries\n",
        "import warnings\n",
        "warnings.filterwarnings('ignore')\n",
        "import os\n",
        "os.environ['TF_CPP_MIN_LOG_LEVEL'] = '3' \n",
        "import pandas as pd\n",
        "import numpy as np"
      ],
      "execution_count": 0,
      "outputs": [
        {
          "output_type": "stream",
          "text": [
            "\u001b[K     |████████████████████████████████| 1.3MB 2.8MB/s \n",
            "\u001b[K     |████████████████████████████████| 92kB 9.1MB/s \n",
            "\u001b[K     |████████████████████████████████| 102kB 9.9MB/s \n",
            "\u001b[K     |████████████████████████████████| 92kB 8.5MB/s \n",
            "\u001b[K     |████████████████████████████████| 460kB 40.5MB/s \n",
            "\u001b[K     |████████████████████████████████| 256kB 47.0MB/s \n",
            "\u001b[K     |████████████████████████████████| 71kB 8.0MB/s \n",
            "\u001b[K     |████████████████████████████████| 184kB 44.7MB/s \n",
            "\u001b[?25h  Building wheel for subprocess32 (setup.py) ... \u001b[?25l\u001b[?25hdone\n",
            "  Building wheel for watchdog (setup.py) ... \u001b[?25l\u001b[?25hdone\n",
            "  Building wheel for shortuuid (setup.py) ... \u001b[?25l\u001b[?25hdone\n",
            "  Building wheel for gql (setup.py) ... \u001b[?25l\u001b[?25hdone\n",
            "  Building wheel for pathtools (setup.py) ... \u001b[?25l\u001b[?25hdone\n"
          ],
          "name": "stdout"
        }
      ]
    },
    {
      "cell_type": "code",
      "metadata": {
        "id": "Ew_SprfuaT0g",
        "colab_type": "code",
        "outputId": "7ecf4d09-36a2-4ef6-be9e-97176fe2f306",
        "colab": {
          "base_uri": "https://localhost:8080/",
          "height": 148
        }
      },
      "source": [
        "import tensorflow as tf\n",
        "import wandb\n",
        "\n",
        "# Set Hyper-parameters\n",
        "wandb.init(entity=\"wandb\", project=\"cnn-intro\")\n",
        "config = wandb.config\n",
        "config.concept = 'cnn'\n",
        "config.batch_size = 128\n",
        "config.epochs = 10\n",
        "config.learn_rate = 0.001\n",
        "config.dropout = 0.3\n",
        "config.dense_layer_nodes = 128\n",
        "\n"
      ],
      "execution_count": 0,
      "outputs": [
        {
          "output_type": "display_data",
          "data": {
            "text/html": [
              "<p style=\"color: red;\">\n",
              "The default version of TensorFlow in Colab will soon switch to TensorFlow 2.x.<br>\n",
              "We recommend you <a href=\"https://www.tensorflow.org/guide/migrate\" target=\"_blank\">upgrade</a> now \n",
              "or ensure your notebook will continue to use TensorFlow 1.x via the <code>%tensorflow_version 1.x</code> magic:\n",
              "<a href=\"https://colab.research.google.com/notebooks/tensorflow_version.ipynb\" target=\"_blank\">more info</a>.</p>\n"
            ],
            "text/plain": [
              "<IPython.core.display.HTML object>"
            ]
          },
          "metadata": {
            "tags": []
          }
        },
        {
          "output_type": "display_data",
          "data": {
            "application/javascript": [
              "\n",
              "        window._wandbApiKey = new Promise((resolve, reject) => {\n",
              "            function loadScript(url) {\n",
              "            return new Promise(function(resolve, reject) {\n",
              "                let newScript = document.createElement(\"script\");\n",
              "                newScript.onerror = reject;\n",
              "                newScript.onload = resolve;\n",
              "                document.body.appendChild(newScript);\n",
              "                newScript.src = url;\n",
              "            });\n",
              "            }\n",
              "            loadScript(\"https://cdn.jsdelivr.net/npm/postmate/build/postmate.min.js\").then(() => {\n",
              "            const iframe = document.createElement('iframe')\n",
              "            iframe.style.cssText = \"width:0;height:0;border:none\"\n",
              "            document.body.appendChild(iframe)\n",
              "            const handshake = new Postmate({\n",
              "                container: iframe,\n",
              "                url: 'https://app.wandb.ai/authorize'\n",
              "            });\n",
              "            const timeout = setTimeout(() => reject(\"Couldn't auto authenticate\"), 5000)\n",
              "            handshake.then(function(child) {\n",
              "                child.on('authorize', data => {\n",
              "                    clearTimeout(timeout)\n",
              "                    resolve(data)\n",
              "                });\n",
              "            });\n",
              "            })\n",
              "        });\n",
              "    "
            ],
            "text/plain": [
              "<IPython.core.display.Javascript object>"
            ]
          },
          "metadata": {
            "tags": []
          }
        },
        {
          "output_type": "stream",
          "text": [
            "wandb: Appending key for api.wandb.ai to your netrc file: /root/.netrc\n"
          ],
          "name": "stderr"
        },
        {
          "output_type": "display_data",
          "data": {
            "text/html": [
              "\n",
              "                Logging results to <a href=\"https://wandb.com\" target=\"_blank\">Weights & Biases</a> <a href=\"https://docs.wandb.com/integrations/jupyter.html\" target=\"_blank\">(Documentation)</a>.<br/>\n",
              "                Project page: <a href=\"https://app.wandb.ai/wandb/cnn-intro\" target=\"_blank\">https://app.wandb.ai/wandb/cnn-intro</a><br/>\n",
              "                Run page: <a href=\"https://app.wandb.ai/wandb/cnn-intro/runs/4355ynhy\" target=\"_blank\">https://app.wandb.ai/wandb/cnn-intro/runs/4355ynhy</a><br/>\n",
              "            "
            ],
            "text/plain": [
              "<IPython.core.display.HTML object>"
            ]
          },
          "metadata": {
            "tags": []
          }
        }
      ]
    },
    {
      "cell_type": "code",
      "metadata": {
        "id": "FyCk79Ras5Ov",
        "colab_type": "code",
        "outputId": "a790ba54-74df-4c42-aad4-e6866f3f24ff",
        "colab": {
          "base_uri": "https://localhost:8080/",
          "height": 580
        }
      },
      "source": [
        "%%wandb\n",
        "# Load data\n",
        "class_names = ['airplane', 'automobile', 'bird', 'cat', 'deer',\n",
        "               'dog', 'frog', 'horse', 'ship', 'truck']\n",
        "num_classes = len(class_names)\n",
        "(X_train, y_train), (X_test, y_test) = tf.keras.datasets.cifar10.load_data()\n",
        "\n",
        "# normalize data\n",
        "X_train = X_train.astype('float32') / 255.\n",
        "X_test = X_test.astype('float32') / 255.\n",
        "\n",
        "# Convert class vectors to binary class matrices.\n",
        "y_train = tf.keras.utils.to_categorical(y_train, num_classes)\n",
        "y_test = tf.keras.utils.to_categorical(y_test, num_classes)\n",
        "\n",
        "# Define model\n",
        "model = tf.keras.models.Sequential()\n",
        "# Conv2D adds a convolution layer with 32 filters that generates 2 dimensional\n",
        "# feature maps to learn different aspects of our image\n",
        "model.add(tf.keras.layers.Conv2D(32, (3, 3), padding='same',\n",
        "                    input_shape=X_train.shape[1:], activation='relu'))\n",
        "\n",
        "# MaxPooling2D layer reduces the size of the image representation our\n",
        "# convolutional layers learnt, and in doing so it reduces the number of\n",
        "# parameters and computations the network needs to perform.\n",
        "model.add(tf.keras.layers.MaxPooling2D(pool_size=(2, 2)))\n",
        "\n",
        "# Dropout layer turns off a percentage of neurons at every step\n",
        "model.add(tf.keras.layers.Dropout(config.dropout))\n",
        "\n",
        "# Flattens our array so we can feed the convolution layer outputs (a matrix)\n",
        "# into our fully connected layer (an array)\n",
        "model.add(tf.keras.layers.Flatten())\n",
        "\n",
        "# Dense layer creates dense, fully connected layers with x inputs and y outputs\n",
        "# - it simply outputs the dot product of our inputs and weights\n",
        "model.add(tf.keras.layers.Dense(config.dense_layer_nodes, activation='relu'))\n",
        "model.add(tf.keras.layers.Dropout(config.dropout))\n",
        "model.add(tf.keras.layers.Dense(num_classes, activation='softmax'))\n",
        "\n",
        "# Compile the model and specify the optimizer and loss function\n",
        "model.compile(loss='categorical_crossentropy',\n",
        "              optimizer=tf.keras.optimizers.Adam(config.learn_rate),\n",
        "              metrics=['accuracy'])\n",
        "\n",
        "# log the number of total parameters\n",
        "config.total_params = model.count_params()\n",
        "print(\"Total params: \", config.total_params)\n",
        "\n",
        "# Fit the model to the training data, specify the batch size\n",
        "# and the WandbCallback() to track model\n",
        "model.fit(X_train, y_train, epochs=10, batch_size=128,\n",
        "          validation_data=(X_test, y_test), verbose=0,\n",
        "          callbacks=[wandb.keras.WandbCallback(data_type=\"image\",\n",
        "          labels=class_names, save_model=False)])"
      ],
      "execution_count": 0,
      "outputs": [
        {
          "output_type": "display_data",
          "data": {
            "text/html": [
              "<iframe src=\"https://app.wandb.ai/wandb/cnn-intro/runs/4355ynhy?jupyter=true&state=paused\" style=\"border:none;width:100%;height:420px\">\n",
              "                </iframe>"
            ],
            "text/plain": [
              "<wandb.jupyter.Run at 0x7f5cd23d3550>"
            ]
          },
          "metadata": {
            "tags": []
          }
        },
        {
          "output_type": "stream",
          "text": [
            "Downloading data from https://www.cs.toronto.edu/~kriz/cifar-10-python.tar.gz\n",
            "170500096/170498071 [==============================] - 11s 0us/step\n",
            "WARNING:tensorflow:From /usr/local/lib/python3.6/dist-packages/tensorflow_core/python/ops/resource_variable_ops.py:1630: calling BaseResourceVariable.__init__ (from tensorflow.python.ops.resource_variable_ops) with constraint is deprecated and will be removed in a future version.\n",
            "Instructions for updating:\n",
            "If using Keras pass *_constraint arguments to layers.\n",
            "Total params:  1050890\n"
          ],
          "name": "stdout"
        },
        {
          "output_type": "execute_result",
          "data": {
            "text/plain": [
              "<tensorflow.python.keras.callbacks.History at 0x7f5cd23d3c50>"
            ]
          },
          "metadata": {
            "tags": []
          },
          "execution_count": 3
        }
      ]
    },
    {
      "cell_type": "markdown",
      "metadata": {
        "id": "ukR-8q0gaT0j",
        "colab_type": "text"
      },
      "source": [
        "### Convolutional Neural Network with Data Augmentation\n",
        "Data augmentation artificially expands the training dataset by creating slightly modified versions of images in the dataset - by scaling, shifting and rotating the images in the training set.\n",
        "\n",
        "![](https://paper-attachments.dropbox.com/s_92F7A2BE132D5E4492B0E3FF3430FFF0FB2390A4135C0D77582A2D21A2EF8567_1573599686286_Screenshot+2019-11-12+15.01.23.png)"
      ]
    },
    {
      "cell_type": "code",
      "metadata": {
        "id": "me4Jr5IhaT0j",
        "colab_type": "code",
        "outputId": "e7058b3a-57db-45f0-b058-3b00485af985",
        "colab": {
          "base_uri": "https://localhost:8080/",
          "height": 102
        }
      },
      "source": [
        "# examples/keras-cifar/cifar-gen.py\n",
        "from tensorflow.keras.callbacks import TensorBoard\n",
        "from tensorflow.keras.datasets import cifar10\n",
        "from tensorflow.keras.preprocessing.image import ImageDataGenerator\n",
        "\n",
        "import numpy as np\n",
        "import os\n",
        "import wandb\n",
        "from wandb.keras import WandbCallback\n",
        "import tensorflow as tf\n",
        "\n",
        "# Define hyperparameters\n",
        "run = wandb.init(entity=\"wandb\", project=\"cnn-intro\")\n",
        "config = run.config\n",
        "config.concept = 'cnn-augmented'\n",
        "config.dropout = 0.25\n",
        "config.dense_layer_nodes = 100\n",
        "config.learn_rate = 0.08\n",
        "config.batch_size = 128\n",
        "config.epochs = 10\n",
        "\n",
        "# Load data\n",
        "class_names = ['airplane', 'automobile', 'bird', 'cat', 'deer',\n",
        "               'dog', 'frog', 'horse', 'ship', 'truck']\n",
        "num_classes = len(class_names)\n",
        "\n",
        "(X_train, y_train), (X_test, y_test) = cifar10.load_data()\n",
        "\n",
        "# Convert class vectors to binary class matrices.\n",
        "y_train = tf.keras.utils.to_categorical(y_train, num_classes)\n",
        "y_test = tf.keras.utils.to_categorical(y_test, num_classes)\n",
        "\n",
        "# Define the model (same as above)\n",
        "model = tf.keras.models.Sequential()\n",
        "model.add(tf.keras.layers.Conv2D(32, (3, 3), padding='same',\n",
        "                                 input_shape=X_train.shape[1:], activation='relu'))\n",
        "model.add(tf.keras.layers.MaxPooling2D(pool_size=(2, 2)))\n",
        "model.add(tf.keras.layers.Dropout(config.dropout))\n",
        "\n",
        "model.add(tf.keras.layers.Flatten())\n",
        "model.add(tf.keras.layers.Dense(config.dense_layer_nodes, activation='relu'))\n",
        "model.add(tf.keras.layers.Dropout(config.dropout))\n",
        "model.add(tf.keras.layers.Dense(num_classes, activation='softmax'))\n",
        "\n",
        "# Compile the model\n",
        "model.compile(loss='categorical_crossentropy',\n",
        "              optimizer=\"adam\",\n",
        "              metrics=['accuracy'])\n",
        "\n",
        "# log the number of total parameters\n",
        "config.total_params = model.count_params()\n",
        "print(\"Total params: \", config.total_params)\n",
        "\n",
        "# normalize data\n",
        "X_train = X_train.astype('float32') / 255.\n",
        "X_test = X_test.astype('float32') / 255.\n",
        "\n",
        "# Add data augmentation\n",
        "datagen = ImageDataGenerator(\n",
        "    featurewise_center=False,  # set input mean to 0 over the dataset\n",
        "    samplewise_center=False,  # set each sample mean to 0\n",
        "    featurewise_std_normalization=False,  # divide inputs by std of the dataset\n",
        "    samplewise_std_normalization=False,  # divide each input by its std\n",
        "    zca_whitening=False,  # apply ZCA whitening\n",
        "    rotation_range=15,  # randomly rotate images in the range (degrees, 0 to 180)\n",
        "    width_shift_range=0.1,  # randomly shift images horizontally (fraction of total width)\n",
        "    height_shift_range=0.1,  # randomly shift images vertically (fraction of total height)\n",
        "    horizontal_flip=True,  # randomly flip images\n",
        "    vertical_flip=False)  # randomly flip images\n",
        "datagen.fit(X_train)\n",
        "\n",
        "# Fit the model on the batches generated by datagen.flow()\n",
        "model.fit_generator(datagen.flow(X_train, y_train,\n",
        "                                 batch_size=config.batch_size),\n",
        "                    steps_per_epoch=X_train.shape[0] // config.batch_size,\n",
        "                    epochs=config.epochs, verbose =0,\n",
        "                    validation_data=(X_test, y_test),\n",
        "                    callbacks=[WandbCallback(data_type=\"image\", labels=class_names)])"
      ],
      "execution_count": 0,
      "outputs": [
        {
          "output_type": "display_data",
          "data": {
            "text/html": [
              "\n",
              "                Logging results to <a href=\"https://wandb.com\" target=\"_blank\">Weights & Biases</a> <a href=\"https://docs.wandb.com/integrations/jupyter.html\" target=\"_blank\">(Documentation)</a>.<br/>\n",
              "                Project page: <a href=\"https://app.wandb.ai/wandb/cnn-intro\" target=\"_blank\">https://app.wandb.ai/wandb/cnn-intro</a><br/>\n",
              "                Run page: <a href=\"https://app.wandb.ai/wandb/cnn-intro/runs/ulqb16ac\" target=\"_blank\">https://app.wandb.ai/wandb/cnn-intro/runs/ulqb16ac</a><br/>\n",
              "            "
            ],
            "text/plain": [
              "<IPython.core.display.HTML object>"
            ]
          },
          "metadata": {
            "tags": []
          }
        },
        {
          "output_type": "stream",
          "text": [
            "Total params:  821206\n"
          ],
          "name": "stdout"
        },
        {
          "output_type": "execute_result",
          "data": {
            "text/plain": [
              "<tensorflow.python.keras.callbacks.History at 0x7fe6c05246d8>"
            ]
          },
          "metadata": {
            "tags": []
          },
          "execution_count": 4
        }
      ]
    },
    {
      "cell_type": "markdown",
      "metadata": {
        "id": "-vF4B1leqkgV",
        "colab_type": "text"
      },
      "source": [
        "# Visualize Predictions Live\n",
        "\n",
        "## Project Overview\n",
        "1. Check out the [project page](https://app.wandb.ai/wandb/cnn-intro) to see your results in the shared project. \n",
        "1. Press 'option+space' to expand the runs table, comparing all the results from everyone who has tried this script. \n",
        "1. Click on the name of a run to dive in deeper to that single run on its own run page.\n",
        "\n",
        "![](https://paper-attachments.dropbox.com/s_92F7A2BE132D5E4492B0E3FF3430FFF0FB2390A4135C0D77582A2D21A2EF8567_1574117851346_Screenshot+2019-11-18+14.57.27.png)\n",
        "\n",
        "## Visualize Performance\n",
        "Click through to a single run to see more details about that run. For example, on [this run page](https://app.wandb.ai/wandb/cnn-intro/runs/6218o47i) you can see the performance metrics I logged when I ran this script.\n",
        "\n",
        "![](https://paper-attachments.dropbox.com/s_92F7A2BE132D5E4492B0E3FF3430FFF0FB2390A4135C0D77582A2D21A2EF8567_1574117639961_Screenshot+2019-11-18+14.53.27.png)\n",
        "\n",
        "\n",
        "## Review Code\n",
        "The overview tab picks up a link to the code. In this case, it's a link to the Google Colab. If you're running a script from a git repo, we'll pick up the SHA of the latest git commit and give you a link to that version of the code in your own GitHub repo.\n",
        "\n",
        "![](https://paper-attachments.dropbox.com/s_92F7A2BE132D5E4492B0E3FF3430FFF0FB2390A4135C0D77582A2D21A2EF8567_1574117783115_overview.png)\n",
        "\n",
        "## Visualize System Metrics\n",
        "The System tab on the runs page lets you visualize how resource efficient your model was. It lets you monitor the GPU, memory, CPU, disk, and network usage in one spot.\n",
        "\n",
        "![](https://paper-attachments.dropbox.com/s_92F7A2BE132D5E4492B0E3FF3430FFF0FB2390A4135C0D77582A2D21A2EF8567_1574118253358_Screenshot+2019-11-18+15.04.10.png)\n",
        "\n",
        "\n",
        "## Next Steps\n",
        "As you can see running sweeps is super easy! We highly encourage you to fork this notebook, tweak the parameters, or try the model with your own dataset!\n",
        "\n",
        "\n",
        "## More about Weights & Biases\n",
        "We're always free for academics and open source projects. Email carey@wandb.com with any questions or feature suggestions. Here are some more resources:\n",
        "\n",
        "1. [Documentation](http://docs.wandb.com) - Python docs\n",
        "2. [Gallery](https://app.wandb.ai/gallery) - example reports in W&B\n",
        "3. [Articles](https://www.wandb.com/articles) - blog posts and tutorials\n",
        "4. [Community](bit.ly/wandb-forum) - join our Slack community forum"
      ]
    },
    {
      "cell_type": "code",
      "metadata": {
        "id": "Fbo4OHbsuT6m",
        "colab_type": "code",
        "colab": {}
      },
      "source": [
        ""
      ],
      "execution_count": 0,
      "outputs": []
    }
  ]
}